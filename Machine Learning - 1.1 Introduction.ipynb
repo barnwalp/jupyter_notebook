{
 "cells": [
  {
   "attachments": {},
   "cell_type": "markdown",
   "metadata": {},
   "source": [
    "## Machine Learning\n",
    "\n",
    "### Definition\n",
    "- Field of study that gives computers the ability to learn without being explicitly programmed. (Arthur Samuel 1959)\n",
    "- Well posed learning problem: A Computer program is said to learn from experience E with respect to some task T and some performance measure P, if its performance on T, as measured by P, improves with experience E. \n",
    "\n",
    "Example: playing checkers.\n",
    "\n",
    "E = the experience of playing many games of checkers\n",
    "\n",
    "T = the task of playing checkers.\n",
    "\n",
    "P = the probability that the program will win the next game.\n",
    "\n",
    "### Machine learning algorithm\n",
    "- Supervised learning\n",
    "- Unsupervised learning\n",
    "- Others - Reinforcement learning, recommender system"
   ]
  },
  {
   "cell_type": "markdown",
   "metadata": {},
   "source": [
    "### Supervised learning\n",
    "\n",
    "**Regression - continuous value output**\n",
    "In the following example, there can be two predictive regression line first based on linear regression which predict the price of 150K for 750 sq feet and another based on quadratic regression which predicts the price of 200K \n",
    "![image.png](attachment:image.png)"
   ]
  },
  {
   "cell_type": "markdown",
   "metadata": {},
   "source": [
    "**Classification problem - Discrete valued output**\n",
    "\n",
    "In the following example, we have two possibilities one is benign and other is malignant. given the size of the tumor, we need to establish an algorithm which can predict whether the tumor is benign or malignant.\n",
    "\n",
    "![image.png](attachment:image.png)"
   ]
  },
  {
   "cell_type": "markdown",
   "metadata": {},
   "source": [
    "In the previous example, we were predicting the malignancy of the tumor on only one feature i.e. tumor size but it can be done on infinite feature. in this example, we are finding the prediction algorithm on 5 features\n",
    "\n",
    "![image.png](attachment:image.png)"
   ]
  },
  {
   "cell_type": "markdown",
   "metadata": {},
   "source": [
    "**Quiz**\n",
    "![image.png](attachment:image.png)"
   ]
  },
  {
   "cell_type": "markdown",
   "metadata": {},
   "source": [
    "### Unsupervised Learning\n",
    "\n",
    "Unsupervised learning allows us to approach problems with little or no idea what our results should look like. We can derive structure from data (which are unlabelled) where we don't necessarily know the effect of the variables.\n",
    "\n",
    "Given the dataset and we are not told what each datapoint is and find the algorithm to find the pattern. Example\n",
    "- Clustering algorithm - Take a collection of 1,000,000 different genes, and find a way to automatically group these genes into groups that are somehow similar or related by different variables, such as lifespan, location, roles, and so on.\n",
    "    - Organize computing clusters\n",
    "    - Social network analysis\n",
    "    - Market segmentation\n",
    "    - Astronomincal data analysis\n",
    "    \n",
    "- Non-clustering - Cocktail party algorithm allows you to find structure in a chaotic environment. (i.e. identifying individual voices and music from a mesh of sounds at a cocktail party).\n",
    "\n",
    "![image.png](attachment:image.png)"
   ]
  },
  {
   "cell_type": "markdown",
   "metadata": {},
   "source": []
  }
 ],
 "metadata": {
  "kernelspec": {
   "display_name": "Python 3",
   "language": "python",
   "name": "python3"
  },
  "language_info": {
   "codemirror_mode": {
    "name": "ipython",
    "version": 3
   },
   "file_extension": ".py",
   "mimetype": "text/x-python",
   "name": "python",
   "nbconvert_exporter": "python",
   "pygments_lexer": "ipython3",
   "version": "3.8.3"
  }
 },
 "nbformat": 4,
 "nbformat_minor": 4
}
