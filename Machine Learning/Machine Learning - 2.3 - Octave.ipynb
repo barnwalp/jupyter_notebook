{
 "cells": [
  {
   "cell_type": "markdown",
   "metadata": {},
   "source": [
    "### Basic Operation\n",
    "\n",
    "Changing the prompt of octave\n",
    "`PS1('>> ')`\n",
    "\n",
    "Difference between normal random variable and Guassian random variable\n",
    "```octave\n",
    "5 + 3    # 8\n",
    "9-2      # 7\n",
    "5*3      # 15\n",
    "4/1      # 4\n",
    "1==2     # 0\n",
    "1==1     # 1\n",
    "1~=1     # 0\n",
    "1&&0     # 0\n",
    "1||1     # 1\n",
    "xor(1,0) # 1\n",
    "a=pi;    # a = 3.1416\n",
    "disp(a)  # 3.1416\n",
    "\n",
    "# print out 2 decimals: 3.14\n",
    "disp(sprintf('2 decimals: %0.2f', a))\n",
    "\n",
    "# Creating a 3 x 2 matrix\n",
    "A = [1 2; 3 4; 5 6]\n",
    " \n",
    "# Creating a matrix of row 1 with value starting from 1 to 7 with increment of 0.1\n",
    "v = 1:0.1:7\n",
    "\n",
    "v = 1:5    # 1 2 3 4 5\n",
    "ones(2,3)  # return 2,3 matrix with value 1\n",
    "c = 3*ones(2,3)\n",
    "zeros(1,3) # return 1,3 matrix with value 0\n",
    "w = rand(1,3)     # Using normal random variable\n",
    "w = randn(1,3)    # Using guassian random variable\n",
    "\n",
    "# This will create a 1 x 10000 matrix with mean of -6 and standard deviation of sqrt(10)\n",
    "w = -6 +sqrt(10)*(randn(1,10000));\n",
    "\n",
    "# plotting histogram \n",
    "hist(w)\n",
    "hist(w, 50)     # 50 bins\n",
    "eye(4)          # identitiy matrix with 4 rows and 4 columns\n",
    "```"
   ]
  },
  {
   "cell_type": "code",
   "execution_count": null,
   "metadata": {},
   "outputs": [],
   "source": []
  }
 ],
 "metadata": {
  "kernelspec": {
   "display_name": "Python 3",
   "language": "python",
   "name": "python3"
  },
  "language_info": {
   "codemirror_mode": {
    "name": "ipython",
    "version": 3
   },
   "file_extension": ".py",
   "mimetype": "text/x-python",
   "name": "python",
   "nbconvert_exporter": "python",
   "pygments_lexer": "ipython3",
   "version": "3.8.3"
  }
 },
 "nbformat": 4,
 "nbformat_minor": 4
}
