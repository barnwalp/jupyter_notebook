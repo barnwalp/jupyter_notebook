{
 "cells": [
  {
   "cell_type": "code",
   "execution_count": 1,
   "metadata": {},
   "outputs": [],
   "source": [
    "from selenium import webdriver\n",
    "from selenium.webdriver.support import expected_conditions as EC\n",
    "from selenium.webdriver.support.ui import WebDriverWait\n",
    "from selenium.webdriver.common.by import By\n",
    "from selenium.webdriver.support.ui import Select\n",
    "import os"
   ]
  },
  {
   "cell_type": "code",
   "execution_count": 2,
   "metadata": {},
   "outputs": [],
   "source": [
    "browser = webdriver.Chrome()\n",
    "browser.get('https://spandan.indianoil.co.in/RAPHASE6/SigninPage')\n",
    "password = os.getenv('CDRSM_PASS')\n",
    "user = os.getenv('CDRSM_UNAME')"
   ]
  },
  {
   "cell_type": "code",
   "execution_count": 3,
   "metadata": {},
   "outputs": [],
   "source": [
    "browser.find_element_by_name('username').send_keys(user)\n",
    "browser.find_element_by_name('password').send_keys(password)"
   ]
  },
  {
   "cell_type": "code",
   "execution_count": 4,
   "metadata": {},
   "outputs": [],
   "source": [
    "# the trick to avoid captcha is to wait for user to enter it manually \n",
    "# and click the submit button, then wait until an element from the \n",
    "# next page is located i.e. 'global_ro_code' in this case\n",
    "element = WebDriverWait(browser, 20).until(\n",
    "    EC.presence_of_element_located((By.ID, 'global_ro_code'))\n",
    ")"
   ]
  },
  {
   "cell_type": "code",
   "execution_count": 5,
   "metadata": {},
   "outputs": [],
   "source": [
    "# data = '152110-AVTAR FILLING STATION(Sambalpur DO)'\n",
    "# browser.find_element_by_name('global_ro_code').send_keys(data)\n",
    "\"\"\"\n",
    "menu_1 = browser.find_element_by_css_selector(\".navbar-nav#tay .dropdown\")\n",
    "menu_1.click()\n",
    "menu_2 = browser.find_element_by_css_selector(\".navbar-nav#tay .dropdown .dropdown-menu>li\")\n",
    "menu_2.click()\n",
    "\"\"\"\n",
    "\n",
    "link1 = browser.find_element_by_link_text('View Reports')\n",
    "link1.click()\n",
    "link2 = browser.find_element_by_link_text('Sales Reports')\n",
    "link2.click()\n",
    "link3 = browser.find_element_by_link_text('Nozzle Sales Report')\n",
    "link3.click()"
   ]
  },
  {
   "cell_type": "code",
   "execution_count": null,
   "metadata": {},
   "outputs": [],
   "source": []
  }
 ],
 "metadata": {
  "kernelspec": {
   "display_name": "Python 3",
   "language": "python",
   "name": "python3"
  },
  "language_info": {
   "codemirror_mode": {
    "name": "ipython",
    "version": 3
   },
   "file_extension": ".py",
   "mimetype": "text/x-python",
   "name": "python",
   "nbconvert_exporter": "python",
   "pygments_lexer": "ipython3",
   "version": "3.8.3"
  }
 },
 "nbformat": 4,
 "nbformat_minor": 4
}
