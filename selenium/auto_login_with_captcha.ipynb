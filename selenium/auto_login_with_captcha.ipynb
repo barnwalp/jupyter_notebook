{
 "cells": [
  {
   "cell_type": "code",
   "execution_count": 1,
   "metadata": {},
   "outputs": [],
   "source": [
    "from selenium import webdriver\n",
    "from selenium.webdriver.support import expected_conditions as EC\n",
    "from selenium.webdriver.support.ui import WebDriverWait\n",
    "from selenium.webdriver.common.by import By\n",
    "from selenium.webdriver.support.ui import Select\n",
    "import os"
   ]
  },
  {
   "cell_type": "code",
   "execution_count": 2,
   "metadata": {},
   "outputs": [],
   "source": [
    "browser = webdriver.Chrome()\n",
    "browser.get('https://spandan.indianoil.co.in/RAPHASE6/SigninPage')\n",
    "password = os.getenv('CDRSM_PASS')\n",
    "user = os.getenv('CDRSM_UNAME')"
   ]
  },
  {
   "cell_type": "code",
   "execution_count": 3,
   "metadata": {},
   "outputs": [],
   "source": [
    "# Changing the dropdown in the select form\n",
    "# select = Select(browser.find_element_by_css_selector(\"#type.form-control\"))\n",
    "# select.select_by_visible_text(\"Dealer\")\n",
    "\n",
    "browser.find_element_by_name('username').send_keys(user)\n",
    "browser.find_element_by_name('password').send_keys(password)"
   ]
  },
  {
   "cell_type": "code",
   "execution_count": 4,
   "metadata": {},
   "outputs": [],
   "source": [
    "# the trick to avoid captcha is to wait for user to enter it manually \n",
    "# and click the submit button, then wait until an element from the \n",
    "# next page is located i.e. 'global_ro_code' in this case\n",
    "element = WebDriverWait(browser, 20).until(\n",
    "    EC.presence_of_element_located((By.ID, 'global_ro_code'))\n",
    ")"
   ]
  },
  {
   "cell_type": "code",
   "execution_count": 5,
   "metadata": {},
   "outputs": [],
   "source": [
    "# data = '152110-AVTAR FILLING STATION(Sambalpur DO)'\n",
    "# browser.find_element_by_name('global_ro_code').send_keys(data)\n",
    "\"\"\"\n",
    "menu_1 = browser.find_element_by_css_selector(\".navbar-nav#tay .dropdown\")\n",
    "menu_1.click()\n",
    "menu_2 = browser.find_element_by_css_selector(\".navbar-nav#tay .dropdown .dropdown-menu>li\")\n",
    "menu_2.click()\n",
    "\"\"\"\n",
    "\n",
    "# Get into the sub-menus of the navigation bar\n",
    "browser.find_element_by_link_text('View Reports').click()\n",
    "browser.find_element_by_link_text('Sales Reports').click()\n",
    "browser.find_element_by_link_text('Nozzle Sales Report').click()\n",
    "\n",
    "# move mouse curser by xoffset and yoffset to unselect the visible menu-bar\n",
    "webdriver.ActionChains(browser).move_by_offset(10, 10).perform()"
   ]
  },
  {
   "cell_type": "code",
   "execution_count": 6,
   "metadata": {
    "scrolled": true
   },
   "outputs": [
    {
     "name": "stdout",
     "output_type": "stream",
     "text": [
      "<selenium.webdriver.remote.webelement.WebElement (session=\"a05ae26d334f9127f6b35c477b9ae275\", element=\"b87e55df-c007-4ad9-87a7-110edda08e7f\")>\n",
      "9\n"
     ]
    }
   ],
   "source": [
    "# selecting the dropdown in the state office input\n",
    "select = Select(browser.find_element_by_id(\"SO\"))\n",
    "select.select_by_visible_text(\"Odisha State Office\")\n",
    "\n",
    "# selecting the dropdown in the divisional office input\n",
    "select = Select(browser.find_element_by_id(\"DO\"))\n",
    "select.select_by_visible_text(\"Sambalpur DO\")\n",
    "\n",
    "# selecting the dropdown in the sales area input\n",
    "select = Select(browser.find_element_by_id(\"SA\"))\n",
    "\n",
    "\n",
    "browser.implicitly_wait(10)\n",
    "\n",
    "# since the values in the dropdown activates after selection of preceding input.( eg\n",
    "# SA dropdown activates only after Divisional office get selected); hence it is \n",
    "# prudent to wait untill all the text is present in the box\n",
    "\n",
    "element = WebDriverWait(browser, 20).until(\n",
    "    EC.text_to_be_present_in_element((By.ID, 'SA'), 'ALL')\n",
    ")\n",
    "print(select.options[0])\n",
    "print(len(select.options))\n",
    "\n",
    "# Download the excel file\n",
    "browser.find_element_by_id('excelButton').click()"
   ]
  }
 ],
 "metadata": {
  "kernelspec": {
   "display_name": "Python 3",
   "language": "python",
   "name": "python3"
  },
  "language_info": {
   "codemirror_mode": {
    "name": "ipython",
    "version": 3
   },
   "file_extension": ".py",
   "mimetype": "text/x-python",
   "name": "python",
   "nbconvert_exporter": "python",
   "pygments_lexer": "ipython3",
   "version": "3.8.3"
  }
 },
 "nbformat": 4,
 "nbformat_minor": 4
}
