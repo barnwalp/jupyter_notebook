{
 "cells": [
  {
   "cell_type": "code",
   "execution_count": 1,
   "metadata": {},
   "outputs": [],
   "source": [
    "from selenium import webdriver"
   ]
  },
  {
   "cell_type": "code",
   "execution_count": 2,
   "metadata": {},
   "outputs": [
    {
     "name": "stdout",
     "output_type": "stream",
     "text": [
      "Page Title is: NSE - National Stock Exchange of India Ltd.\n"
     ]
    }
   ],
   "source": [
    "driver = webdriver.Chrome()\n",
    "driver.get('https://www.nseindia.com/products/content/derivatives/equities/archieve_fo.htm')\n",
    "print(f'Page Title is: {driver.title}')\n",
    "\n",
    "# entering the text directly in the input box\n",
    "# -------------------------------------------\n",
    "# driver.find_element_by_css_selector('#date.hasDatepicker').send_keys(\"10-04-2018\")\n",
    "\n",
    "driver.implicitly_wait(2)\n",
    "\n",
    "# selecting date using datepicker calendar\n",
    "# ----------------------------------------\n",
    "datepicker = driver.find_element_by_css_selector('#date.hasDatepicker')\n",
    "datepicker.click()\n",
    "\n",
    "selectMonth = driver.find_element_by_css_selector('.ui-datepicker-month')\n",
    "# selecting all option tags and iterating over it untill correct month is found\n",
    "for option in selectMonth.find_elements_by_tag_name('option'):\n",
    "    if option.text == 'Mar':\n",
    "        option.click()\n",
    "        break\n",
    "\n",
    "selectYear = driver.find_element_by_css_selector('.ui-datepicker-year')\n",
    "# selecting all option tags and iterating over it untill correct year is found\n",
    "for option in selectYear.find_elements_by_tag_name('option'):\n",
    "    if option.text == '2017':\n",
    "        option.click()\n",
    "        break\n",
    "        \n",
    "# selecting all elements with the class 'ui-state-defualt'\n",
    "days = driver.find_elements_by_css_selector('.ui-state-default')\n",
    "days[4].click()"
   ]
  },
  {
   "cell_type": "code",
   "execution_count": null,
   "metadata": {},
   "outputs": [],
   "source": []
  }
 ],
 "metadata": {
  "kernelspec": {
   "display_name": "Python 3",
   "language": "python",
   "name": "python3"
  },
  "language_info": {
   "codemirror_mode": {
    "name": "ipython",
    "version": 3
   },
   "file_extension": ".py",
   "mimetype": "text/x-python",
   "name": "python",
   "nbconvert_exporter": "python",
   "pygments_lexer": "ipython3",
   "version": "3.8.3"
  }
 },
 "nbformat": 4,
 "nbformat_minor": 4
}
