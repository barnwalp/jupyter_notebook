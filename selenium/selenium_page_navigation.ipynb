{
 "cells": [
  {
   "cell_type": "markdown",
   "metadata": {},
   "source": [
    "### interacting with the page\n",
    "\n",
    "Given the below html element:\n",
    "```html\n",
    "<input type=\"text\" name=\"passwd\" id=\"passwd-id\" />\n",
    "```\n",
    "you can find it using any of following:\n",
    "```python\n",
    "element = driver.find_element_by_id('passwd-id')\n",
    "element = driver.find_element_by_name('passwd')\n",
    "# if more than one element is found, then the first element will be returned\n",
    "element = driver.find_element_by_xpath('//input[@id='passwd-id']')\n",
    "```\n",
    "Entering some text in the text field\n",
    "```python\n",
    "element.send_keys('some text')\n",
    "```\n",
    "Simulating pressing arrow key\n",
    "```python\n",
    "element.send_keys('and some', Keys.ARROW_DOWN)\n",
    "```\n",
    "A side-effect of this is that typing something into a text field wont automatically clear it. instead what you type will be appended to what's already there. you can clear the content of a text field using\n",
    "```python\n",
    "element.clear()\n",
    "```"
   ]
  },
  {
   "cell_type": "markdown",
   "metadata": {},
   "source": [
    "### Filling in forms"
   ]
  },
  {
   "cell_type": "code",
   "execution_count": null,
   "metadata": {},
   "outputs": [],
   "source": []
  }
 ],
 "metadata": {
  "kernelspec": {
   "display_name": "Python 3",
   "language": "python",
   "name": "python3"
  },
  "language_info": {
   "codemirror_mode": {
    "name": "ipython",
    "version": 3
   },
   "file_extension": ".py",
   "mimetype": "text/x-python",
   "name": "python",
   "nbconvert_exporter": "python",
   "pygments_lexer": "ipython3",
   "version": "3.8.3"
  }
 },
 "nbformat": 4,
 "nbformat_minor": 4
}
