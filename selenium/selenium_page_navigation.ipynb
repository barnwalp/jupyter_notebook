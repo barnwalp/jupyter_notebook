{
 "cells": [
  {
   "cell_type": "markdown",
   "metadata": {},
   "source": [
    "### interacting with the page\n",
    "\n",
    "Given the below html element:\n",
    "```html\n",
    "<input type=\"text\" name=\"passwd\" id=\"passwd-id\" />\n",
    "```\n",
    "you can find it using any of following:\n",
    "```python\n",
    "element = driver.find_element_by_id('passwd-id')\n",
    "element = driver.find_element_by_name('passwd')\n",
    "# if more than one element is found, then the first element will be returned\n",
    "element = driver.find_element_by_xpath('//input[@id='passwd-id']')\n",
    "```\n",
    "Entering some text in the text field\n",
    "```python\n",
    "element.send_keys('some text')\n",
    "```\n",
    "Simulating pressing arrow key\n",
    "```python\n",
    "element.send_keys('and some', Keys.ARROW_DOWN)\n",
    "```\n",
    "A side-effect of this is that typing something into a text field wont automatically clear it. instead what you type will be appended to what's already there. you can clear the content of a text field using\n",
    "```python\n",
    "element.clear()\n",
    "```"
   ]
  },
  {
   "cell_type": "markdown",
   "metadata": {},
   "source": [
    "### Filling in forms\n",
    "the `<select>` tag is an HTML element which creates a drop-down list on the webpage. This tag also encapsulates a `<option>` tag which defines the items in the list.\n",
    "```python\n",
    "element = driver.find_element_by_xpath(\"//select[@name='name']\")\n",
    "all_options = element.find_element_by_tag_name(\"option\")\n",
    "for option in all_options:\n",
    "    print(\"Value is: %s\" % option.get_attribute(\"value\"))\n",
    "    option.click()\n",
    "```\n",
    "However the above method is not very efficient. webdriver support class includes one called a `Select` which provides useful methods for interacting with these:\n",
    "```python\n",
    "from selenium.webdriver.support.ui import Select\n",
    "select = Select(driver.find_element_by_name('name'))\n",
    "select.select_by_index(index)\n",
    "select.select_by_visible_text('text')\n",
    "select.select_by_value(value)\n",
    "select.deselect_all()\n",
    "\n",
    "# to get all available options\n",
    "options = select.options\n",
    "\n",
    "# when you call submit on an element within a form, Webdriver will walk up the DOM until it finds the enclosing form and then call submit on that\n",
    "element.submit()\n",
    "\n"
   ]
  },
  {
   "cell_type": "code",
   "execution_count": null,
   "metadata": {},
   "outputs": [],
   "source": []
  }
 ],
 "metadata": {
  "kernelspec": {
   "display_name": "Python 3",
   "language": "python",
   "name": "python3"
  },
  "language_info": {
   "codemirror_mode": {
    "name": "ipython",
    "version": 3
   },
   "file_extension": ".py",
   "mimetype": "text/x-python",
   "name": "python",
   "nbconvert_exporter": "python",
   "pygments_lexer": "ipython3",
   "version": "3.8.3"
  }
 },
 "nbformat": 4,
 "nbformat_minor": 4
}
