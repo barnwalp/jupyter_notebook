{
 "cells": [
  {
   "cell_type": "code",
   "execution_count": 1,
   "metadata": {},
   "outputs": [],
   "source": [
    "from selenium import webdriver\n",
    "from selenium.webdriver.support import expected_conditions as EC\n",
    "from selenium.webdriver.support.ui import WebDriverWait\n",
    "from selenium.webdriver.common.by import By\n",
    "from selenium.webdriver.support.ui import Select\n",
    "import os\n",
    "from datetime import date, timedelta\n",
    "import time"
   ]
  },
  {
   "cell_type": "code",
   "execution_count": 2,
   "metadata": {},
   "outputs": [
    {
     "name": "stdout",
     "output_type": "stream",
     "text": [
      "Nozzle Sales Report (1).xlsx has been deleted\n",
      "Nozzle Sales Report.xlsx has been deleted\n"
     ]
    }
   ],
   "source": [
    "# Deleting existing .xlsx files in Download folders\n",
    "# -------------------------------------------------\n",
    "\n",
    "# Download folder path\n",
    "path = \"C:/Users/panka/Downloads/\"\n",
    "\n",
    "# Getting all the files in a variable\n",
    "files_in_downloads = os.listdir(path)\n",
    "\n",
    "# Getting all the xlsx files in a variable\n",
    "excel_files = [file for file in files_in_downloads if file.endswith('xlsx')]\n",
    "\n",
    "# Deleting all .xlsx files after a simple availability check\n",
    "if len(excel_files) > 0:\n",
    "    for file in excel_files:\n",
    "        path_to_file = os.path.join(path, file)\n",
    "        os.remove(path_to_file)\n",
    "        print(f'{file} has been deleted')\n"
   ]
  },
  {
   "cell_type": "code",
   "execution_count": 3,
   "metadata": {},
   "outputs": [],
   "source": [
    "browser = webdriver.Chrome()\n",
    "browser.get('https://spandan.indianoil.co.in/RAPHASE6/SigninPage')\n",
    "password = os.getenv('CDRSM_PASS')\n",
    "user = os.getenv('CDRSM_UNAME')"
   ]
  },
  {
   "cell_type": "code",
   "execution_count": 4,
   "metadata": {},
   "outputs": [],
   "source": [
    "# Changing the dropdown in the select form\n",
    "# select = Select(browser.find_element_by_css_selector(\"#type.form-control\"))\n",
    "# select.select_by_visible_text(\"Dealer\")\n",
    "\n",
    "browser.find_element_by_name('username').send_keys(user)\n",
    "browser.find_element_by_name('password').send_keys(password)"
   ]
  },
  {
   "cell_type": "code",
   "execution_count": 5,
   "metadata": {},
   "outputs": [],
   "source": [
    "# the trick to avoid captcha is to wait for user to enter it manually \n",
    "# and click the submit button, then wait until an element from the \n",
    "# next page is located i.e. 'global_ro_code' in this case\n",
    "element = WebDriverWait(browser, 20).until(\n",
    "    EC.presence_of_element_located((By.ID, 'global_ro_code'))\n",
    ")"
   ]
  },
  {
   "cell_type": "code",
   "execution_count": 6,
   "metadata": {},
   "outputs": [],
   "source": [
    "# data = '152110-AVTAR FILLING STATION(Sambalpur DO)'\n",
    "# browser.find_element_by_name('global_ro_code').send_keys(data)\n",
    "\"\"\"\n",
    "menu_1 = browser.find_element_by_css_selector(\".navbar-nav#tay .dropdown\")\n",
    "menu_1.click()\n",
    "menu_2 = browser.find_element_by_css_selector(\".navbar-nav#tay .dropdown .dropdown-menu>li\")\n",
    "menu_2.click()\n",
    "\"\"\"\n",
    "\n",
    "# Get into the sub-menus of the navigation bar\n",
    "browser.find_element_by_link_text('View Reports').click()\n",
    "browser.find_element_by_link_text('Sales Reports').click()\n",
    "browser.find_element_by_link_text('Nozzle Sales Report').click()\n",
    "\n",
    "# move mouse curser by xoffset and yoffset to unselect the visible menu-bar\n",
    "webdriver.ActionChains(browser).move_by_offset(10, 10).perform()"
   ]
  },
  {
   "cell_type": "code",
   "execution_count": 7,
   "metadata": {
    "scrolled": true
   },
   "outputs": [],
   "source": [
    "browser.implicitly_wait(10)\n",
    "\n",
    "# selecting the dropdown in the state office input\n",
    "select = Select(browser.find_element_by_id(\"SO\"))\n",
    "select.select_by_visible_text(\"Odisha State Office\")\n",
    "\n",
    "# selecting the dropdown in the divisional office input\n",
    "select = Select(browser.find_element_by_id(\"DO\"))\n",
    "select.select_by_visible_text(\"Sambalpur DO\")\n",
    "\n",
    "# selecting the dropdown in the sales area input\n",
    "select = Select(browser.find_element_by_id(\"SA\"))\n",
    "\n",
    "browser.implicitly_wait(10)\n",
    "\n",
    "# since the values in the dropdown activates after selection of preceding input.( eg\n",
    "# SA dropdown activates only after Divisional office get selected); hence it is \n",
    "# prudent to wait untill all the text is present in the box\n",
    "\n",
    "element = WebDriverWait(browser, 20).until(\n",
    "    EC.text_to_be_present_in_element((By.ID, 'SA'), 'ALL')\n",
    ")\n",
    "\n",
    "# Download the first excel file\n",
    "browser.find_element_by_id('excelButton').click()"
   ]
  },
  {
   "cell_type": "code",
   "execution_count": 8,
   "metadata": {},
   "outputs": [
    {
     "name": "stdout",
     "output_type": "stream",
     "text": [
      "C:/Users/panka/Downloads/Nozzle Sales Report.xlsx exists\n"
     ]
    }
   ],
   "source": [
    "# Check if the first file is downloaded\n",
    "path_to_file = 'C:/Users/panka/Downloads/Nozzle Sales Report.xlsx'\n",
    "while not os.path.exists(path_to_file):\n",
    "    time.sleep(2)\n",
    "    \n",
    "print(f'{path_to_file} exists')"
   ]
  },
  {
   "cell_type": "code",
   "execution_count": 9,
   "metadata": {},
   "outputs": [
    {
     "name": "stdout",
     "output_type": "stream",
     "text": [
      "22\n",
      "12\n",
      "6\n",
      "22\n",
      "27\n"
     ]
    }
   ],
   "source": [
    "# selecting date using datepicker calendar\n",
    "datepicker = browser.find_element_by_id('datetimepicker')\n",
    "# opening the calendar using the datepicker\n",
    "datepicker.click()\n",
    "\n",
    "browser.implicitly_wait(10)\n",
    "\n",
    "# getting today's day\n",
    "current_day = date.today().day\n",
    "\n",
    "# selecting all elements with the class 'ui-state-defualt'. this\n",
    "# element will only appear after the calendar is open through datepicker\n",
    "# days is a list of selenium specific data structure\n",
    "days = browser.find_elements_by_css_selector('.day')\n",
    "\n",
    "print(current_day)\n",
    "\n",
    "# this will print the text of the 18th value of the days list \n",
    "print(days[17].text)\n",
    "# days[17].click()\n",
    "# print(days)\n",
    "# print(days[6])\n",
    "# print(type(days[6]))\n",
    "\n",
    "# Since there are double occurence of few tail days such as 29, 30, 31\n",
    "# in the calendar, it is imperative that correct day is choosen while\n",
    "# selecting the date. It can be inferred that current date will always \n",
    "# come after day 1, so to locate the current day, one need to traverse\n",
    "# from day 1 to day2 ....... day 31 and discard old days of previous month\n",
    "\n",
    "# Now one need to find the index of the day 1 of the current month\n",
    "for index, val in enumerate(days):\n",
    "    if val.text == '1':\n",
    "        day_1_index = index\n",
    "        print(day_1_index)\n",
    "        break\n",
    "\n",
    "# Given the index of day 1, we have to first find the index of today\n",
    "# in the calendar. Thereafter one can navigate to the preceeding days\n",
    "# using the index of the days list. Following will find the index of \n",
    "# current date and will store it in anchor variable.\n",
    "\n",
    "for index, val in enumerate(days):\n",
    "    if index >= day_1_index:\n",
    "        if val.text == str(current_day):\n",
    "            print(val.text)\n",
    "            anchor = index\n",
    "            print(anchor)\n",
    "            break\n",
    "\n",
    "# This will select the day, 4 days prior from the current day.\n",
    "days[(anchor-4)].click()\n",
    "\n",
    "browser.implicitly_wait(10)\n",
    "\n",
    "# selecting second date calendar using datepicker1\n",
    "# ----------------------------------------\n",
    "datepicker_2 = browser.find_element_by_id('datetimepicker1')\n",
    "datepicker_2.click()\n",
    "\n",
    "browser.implicitly_wait(10)\n",
    "\n",
    "days = browser.find_elements_by_css_selector('.day')\n",
    "\n",
    "# This will select the day, 3 days prior from the current day.\n",
    "days[(anchor-3)].click()"
   ]
  },
  {
   "cell_type": "code",
   "execution_count": 10,
   "metadata": {},
   "outputs": [],
   "source": [
    "# print(select.options[0])\n",
    "#print(len(select.options))\n",
    "\n",
    "# Download the excel file\n",
    "browser.find_element_by_id('excelButton').click()"
   ]
  },
  {
   "cell_type": "code",
   "execution_count": 11,
   "metadata": {},
   "outputs": [],
   "source": [
    "import pandas as pd\n",
    "from openpyxl import load_workbook\n",
    "import openpyxl\n",
    "import numpy as np\n",
    "from datetime import date, timedelta"
   ]
  },
  {
   "cell_type": "code",
   "execution_count": 12,
   "metadata": {},
   "outputs": [
    {
     "name": "stdout",
     "output_type": "stream",
     "text": [
      "1\n"
     ]
    }
   ],
   "source": [
    "def cell_to_num(char):\n",
    "    char = char.upper()\n",
    "    if char.isalpha():\n",
    "        num = ord(char) - 64\n",
    "    else:\n",
    "        num = 0\n",
    "    return num\n",
    "print(cell_to_num('a'))"
   ]
  },
  {
   "cell_type": "code",
   "execution_count": 13,
   "metadata": {},
   "outputs": [
    {
     "name": "stderr",
     "output_type": "stream",
     "text": [
      "c:\\users\\panka\\appdata\\local\\programs\\python\\python38-32\\lib\\site-packages\\openpyxl\\styles\\stylesheet.py:214: UserWarning: Workbook contains no default style, apply openpyxl's default\n",
      "  warn(\"Workbook contains no default style, apply openpyxl's default\")\n"
     ]
    }
   ],
   "source": [
    "# Windows file system\n",
    "first_file = 'C:/Users/panka/Downloads/Nozzle Sales Report.xlsx'\n",
    "second_file = 'C:/Users/panka/Downloads/Nozzle Sales Report (1).xlsx'\n",
    "\"\"\"\n",
    "# linux file system\n",
    "first_file = '/mnt/c/Users/panka/Downloads/Nozzle Sales Report.xlsx'\n",
    "second_file = '/mnt/c/Users/panka/Downloads/Nozzle Sales Report (1).xlsx'\n",
    "\"\"\"\n",
    "wb_check = load_workbook(first_file)"
   ]
  },
  {
   "cell_type": "code",
   "execution_count": 14,
   "metadata": {},
   "outputs": [],
   "source": [
    "def data_cleaning(path):\n",
    "    wb = load_workbook(path)\n",
    "    ws = wb.active\n",
    "    \n",
    "    #Unmerge cell\n",
    "    ws.unmerge_cells('O1:P1')\n",
    "    ws.unmerge_cells('Q1:R1')\n",
    "    ws.unmerge_cells('S1:T1')\n",
    "    ws.unmerge_cells('U1:V1')\n",
    "    if path[-7] == '1':\n",
    "        #renaming issue_sale value with dates\n",
    "        ws['S1'] = str(date.today() - timedelta(days=4))\n",
    "        ws['T1'] = str(date.today() - timedelta(days=3))\n",
    "    else:\n",
    "        ws['S1'] = str(date.today() - timedelta(days=2))    \n",
    "        ws['T1'] = str(date.today() - timedelta(days=1))\n",
    "    \n",
    "    print(ws['S1'].value)\n",
    "    print(ws['T1'].value)    \n",
    "    \n",
    "    #Delete column U:V\n",
    "    ws.delete_cols(cell_to_num('U'), cell_to_num('V')-cell_to_num('U')+1)\n",
    "    #Delete column O:R\n",
    "    ws.delete_cols(cell_to_num('O'), cell_to_num('R')-cell_to_num('O')+1)\n",
    "    #Delete column K:M\n",
    "    ws.delete_cols(cell_to_num('K'), cell_to_num('M')-cell_to_num('K')+1)\n",
    "    #Delete column B:F\n",
    "    ws.delete_cols(cell_to_num('B'), cell_to_num('F')-cell_to_num('B')+1)\n",
    "    #Delete second row\n",
    "    ws.delete_rows(2)\n",
    "    wb.save(path)"
   ]
  },
  {
   "cell_type": "code",
   "execution_count": 15,
   "metadata": {},
   "outputs": [],
   "source": [
    "def create_pivot(path):\n",
    "    #reading excel file using pandas\n",
    "    old_df = pd.read_excel(path)\n",
    "    current_wb = load_workbook(path)\n",
    "    ws = current_wb.active\n",
    "    \n",
    "    #filter out the 'NA' value in the product column\n",
    "    df = old_df[\n",
    "        (old_df['Product'] == 'XP') |\n",
    "        (old_df['Product'] == 'HS') |\n",
    "        (old_df['Product'] == 'MS')\n",
    "    ]\n",
    "    \n",
    "    df.loc[df['Product'] == 'XP', 'Product'] = 'MS'\n",
    "    \n",
    "    pvt_all = pd.pivot_table(df,\n",
    "                            index=[\"SA\"],\n",
    "                            columns=['Product'],\n",
    "                            values=[ws['H1'].value, ws['G1'].value],\n",
    "                            aggfunc=np.sum)\n",
    "    return pvt_all"
   ]
  },
  {
   "cell_type": "code",
   "execution_count": 16,
   "metadata": {},
   "outputs": [
    {
     "name": "stdout",
     "output_type": "stream",
     "text": [
      "2020-08-20\n",
      "2020-08-21\n",
      "2020-08-18\n",
      "2020-08-19\n"
     ]
    }
   ],
   "source": [
    "data_cleaning(first_file)\n",
    "data_cleaning(second_file)"
   ]
  },
  {
   "cell_type": "code",
   "execution_count": 17,
   "metadata": {},
   "outputs": [
    {
     "name": "stderr",
     "output_type": "stream",
     "text": [
      "c:\\users\\panka\\appdata\\local\\programs\\python\\python38-32\\lib\\site-packages\\pandas\\core\\indexing.py:966: SettingWithCopyWarning: \n",
      "A value is trying to be set on a copy of a slice from a DataFrame.\n",
      "Try using .loc[row_indexer,col_indexer] = value instead\n",
      "\n",
      "See the caveats in the documentation: https://pandas.pydata.org/pandas-docs/stable/user_guide/indexing.html#returning-a-view-versus-a-copy\n",
      "  self.obj[item] = s\n"
     ]
    },
    {
     "name": "stdout",
     "output_type": "stream",
     "text": [
      "                     2020-08-20           2020-08-21           2020-08-18  \\\n",
      "Product                      HS        MS         HS        MS         HS   \n",
      "SA                                                                          \n",
      "Fuels- Bargarh(R)      37037.22  52026.37   34574.83  63983.63   38821.91   \n",
      "Fuels-Bhawanipatna(R   41417.49  45084.90   40008.61  67440.08   47192.44   \n",
      "Fuels-JEYPORE(R)       73679.79  59377.41   81854.63  71659.01  105962.00   \n",
      "Fuels-Jharsuguda(R)   135108.81  36877.78   86186.48  42209.68  127112.77   \n",
      "Fuels-ROURKELA(R)     246099.85  35328.03  282870.54  53049.38  275982.19   \n",
      "Fuels-SAMBALPUR (R)    65263.95  27736.46   79006.62  40240.07   72204.61   \n",
      "Keonjhar I RSA         78266.59  14526.39   90111.33  23295.16   81982.21   \n",
      "Keonjhar II RSA         7678.64   5819.61    6288.55   9412.13   10537.30   \n",
      "\n",
      "                               2020-08-19            \n",
      "Product                     MS         HS        MS  \n",
      "SA                                                   \n",
      "Fuels- Bargarh(R)     48629.88   48173.73  49982.35  \n",
      "Fuels-Bhawanipatna(R  53251.30   44611.19  45978.14  \n",
      "Fuels-JEYPORE(R)      68978.65   77039.43  50798.37  \n",
      "Fuels-Jharsuguda(R)   43028.38  155122.60  43030.81  \n",
      "Fuels-ROURKELA(R)     54264.92  276611.96  49125.54  \n",
      "Fuels-SAMBALPUR (R)   39118.07   88873.02  38264.82  \n",
      "Keonjhar I RSA        24699.31   73249.58  17943.48  \n",
      "Keonjhar II RSA        9690.03    9416.36   7457.59  \n"
     ]
    }
   ],
   "source": [
    "pvt = pd.concat([create_pivot(first_file), create_pivot(second_file)], axis=1)\n",
    "print(pvt)"
   ]
  },
  {
   "cell_type": "code",
   "execution_count": 18,
   "metadata": {},
   "outputs": [],
   "source": [
    "with pd.ExcelWriter(first_file, engine='openpyxl') as writer:\n",
    "    writer.book = load_workbook(first_file)\n",
    "    pvt.to_excel(writer, 'pivot sheet', index=True)"
   ]
  },
  {
   "cell_type": "code",
   "execution_count": 19,
   "metadata": {},
   "outputs": [
    {
     "name": "stdout",
     "output_type": "stream",
     "text": [
      "['Unnamed: 0' '2020-08-20' 'Unnamed: 2' '2020-08-21' 'Unnamed: 4'\n",
      " '2020-08-18' 'Unnamed: 6' '2020-08-19' 'Unnamed: 8']\n"
     ]
    }
   ],
   "source": [
    "df = pd.read_excel(first_file, sheet_name='pivot sheet')\n",
    "print(df.columns.values)"
   ]
  },
  {
   "cell_type": "code",
   "execution_count": 20,
   "metadata": {},
   "outputs": [
    {
     "name": "stdout",
     "output_type": "stream",
     "text": [
      "['Unnamed: 0', '2020-08-21', 'Unnamed: 4', '2020-08-20', 'Unnamed: 2', '2020-08-19', 'Unnamed: 8', '2020-08-18', 'Unnamed: 6']\n"
     ]
    }
   ],
   "source": [
    "cols = df.columns.values\n",
    "order = [0, 3, 4, 1, 2, 7, 8, 5, 6]\n",
    "cols = [cols[i] for i in order]\n",
    "print(cols)"
   ]
  },
  {
   "cell_type": "code",
   "execution_count": 21,
   "metadata": {},
   "outputs": [
    {
     "name": "stdout",
     "output_type": "stream",
     "text": [
      "             Unnamed: 0 2020-08-21 Unnamed: 4 2020-08-20 Unnamed: 2  \\\n",
      "0               Product         HS         MS         HS         MS   \n",
      "1                    SA        NaN        NaN        NaN        NaN   \n",
      "2     Fuels- Bargarh(R)    34574.8    63983.6    37037.2    52026.4   \n",
      "3  Fuels-Bhawanipatna(R    40008.6    67440.1    41417.5    45084.9   \n",
      "4      Fuels-JEYPORE(R)    81854.6      71659    73679.8    59377.4   \n",
      "5   Fuels-Jharsuguda(R)    86186.5    42209.7     135109    36877.8   \n",
      "6     Fuels-ROURKELA(R)     282871    53049.4     246100      35328   \n",
      "7   Fuels-SAMBALPUR (R)    79006.6    40240.1      65264    27736.5   \n",
      "8        Keonjhar I RSA    90111.3    23295.2    78266.6    14526.4   \n",
      "9       Keonjhar II RSA    6288.55    9412.13    7678.64    5819.61   \n",
      "\n",
      "  2020-08-19 Unnamed: 8 2020-08-18 Unnamed: 6  \n",
      "0         HS         MS         HS         MS  \n",
      "1        NaN        NaN        NaN        NaN  \n",
      "2    48173.7    49982.3    38821.9    48629.9  \n",
      "3    44611.2    45978.1    47192.4    53251.3  \n",
      "4    77039.4    50798.4     105962    68978.7  \n",
      "5     155123    43030.8     127113    43028.4  \n",
      "6     276612    49125.5     275982    54264.9  \n",
      "7      88873    38264.8    72204.6    39118.1  \n",
      "8    73249.6    17943.5    81982.2    24699.3  \n",
      "9    9416.36    7457.59    10537.3    9690.03  \n"
     ]
    }
   ],
   "source": [
    "df = df[cols]\n",
    "print(df)"
   ]
  },
  {
   "cell_type": "code",
   "execution_count": 22,
   "metadata": {},
   "outputs": [],
   "source": [
    "with pd.ExcelWriter(first_file, engine='openpyxl') as writer:\n",
    "    writer.book = load_workbook(first_file)\n",
    "    df.to_excel(writer, 'summary', index=False)"
   ]
  },
  {
   "cell_type": "code",
   "execution_count": 23,
   "metadata": {},
   "outputs": [
    {
     "name": "stdout",
     "output_type": "stream",
     "text": [
      "\n",
      "2020-08-21\n",
      "\n",
      "2020-08-20\n",
      "\n",
      "2020-08-19\n",
      "\n",
      "2020-08-18\n",
      "\n",
      "Fuels- Bargarh(R)\n"
     ]
    }
   ],
   "source": [
    "wb = load_workbook(first_file)\n",
    "ws = wb['summary']\n",
    "ws.delete_rows(3)\n",
    "check = 0\n",
    "for value in ws.iter_rows(min_row=1, max_row=1):\n",
    "    for cell in value:\n",
    "        if check % 2 == 0:\n",
    "            cell.value = \"\"\n",
    "        check += 1\n",
    "        print(cell.value)\n",
    "# print(df.columns.values)\n",
    "print(ws['A3'].value)"
   ]
  },
  {
   "cell_type": "code",
   "execution_count": 24,
   "metadata": {},
   "outputs": [],
   "source": [
    "from exchangelib import Account, Message, Credentials, HTMLBody\n",
    "from exchangelib import Configuration, DELEGATE\n",
    "import os"
   ]
  },
  {
   "cell_type": "code",
   "execution_count": 25,
   "metadata": {},
   "outputs": [
    {
     "name": "stdout",
     "output_type": "stream",
     "text": [
      "ioc\\00504802\n",
      "Toptal@22\n"
     ]
    }
   ],
   "source": [
    "outlook_user = os.environ.get('OUTLOOK_USER')\n",
    "outlook_password = os.environ.get('OUTLOOK_PASS')\n",
    "outlook_server = os.environ.get('OUTLOOK_SERVER')\n",
    "outlook_email = os.environ.get('OUTLOOK_EMAIL')\n",
    "\n",
    "print(os.getenv('OUTLOOK_USER'))\n",
    "print(os.getenv('OUTLOOK_PASS'))"
   ]
  },
  {
   "cell_type": "code",
   "execution_count": 26,
   "metadata": {},
   "outputs": [],
   "source": [
    "credentials = Credentials(username=outlook_user,\n",
    "                         password=outlook_password\n",
    "                         )\n",
    "config = Configuration(server=outlook_server,\n",
    "                      credentials=credentials)\n",
    "account = Account(primary_smtp_address=outlook_email,\n",
    "                 config=config,\n",
    "                 autodiscover=False,\n",
    "                 access_type=DELEGATE)"
   ]
  },
  {
   "cell_type": "code",
   "execution_count": 27,
   "metadata": {},
   "outputs": [],
   "source": [
    "def create_html(ws):\n",
    "    html = \"\"\"\n",
    "    <html><body><h3>Nozzle Sales Report:</h3>\n",
    "    <table border=1>\n",
    "    \"\"\"\n",
    "    # entering header data in html\n",
    "    for whole_row in ws.iter_rows(min_row=1, max_row=2):\n",
    "        html += \"<tr>\"\n",
    "        for row in whole_row:\n",
    "            html += f'<th>{row.value}</th>'\n",
    "        html += \"</tr>\"\n",
    "    # entering table data in html\n",
    "    for whole_row in ws.iter_rows(min_row=3):\n",
    "        html += \"<tr>\"\n",
    "        for row in whole_row:\n",
    "            if isinstance(row.value, float):\n",
    "                html += f'<td>{round(row.value, 2)}</td>'\n",
    "                print(round(row.value, 2))\n",
    "            else:\n",
    "                html += f'<td>{row.value}</td>'\n",
    "        html += \"</tr>\"\n",
    "    html += \"\"\"\n",
    "    </table>\n",
    "    <p>\n",
    "    <br>\n",
    "    With Regards<br>\n",
    "    Pankaj Barnwal<br>\n",
    "    </p>\n",
    "    </body>\n",
    "    </html>\n",
    "    \"\"\"\n",
    "    return html"
   ]
  },
  {
   "cell_type": "code",
   "execution_count": 28,
   "metadata": {},
   "outputs": [
    {
     "name": "stdout",
     "output_type": "stream",
     "text": [
      "34574.83\n",
      "63983.63\n",
      "37037.22\n",
      "52026.37\n",
      "48173.73\n",
      "49982.35\n",
      "38821.91\n",
      "48629.88\n",
      "40008.61\n",
      "67440.08\n",
      "41417.49\n",
      "45084.9\n",
      "44611.19\n",
      "45978.14\n",
      "47192.44\n",
      "53251.3\n",
      "81854.63\n",
      "71659.01\n",
      "73679.79\n",
      "59377.41\n",
      "77039.43\n",
      "50798.37\n",
      "68978.65\n",
      "86186.48\n",
      "42209.68\n",
      "135108.81\n",
      "36877.78\n",
      "155122.6\n",
      "43030.81\n",
      "127112.77\n",
      "43028.38\n",
      "282870.54\n",
      "53049.38\n",
      "246099.85\n",
      "35328.03\n",
      "276611.96\n",
      "49125.54\n",
      "275982.19\n",
      "54264.92\n",
      "79006.62\n",
      "40240.07\n",
      "65263.95\n",
      "27736.46\n",
      "88873.02\n",
      "38264.82\n",
      "72204.61\n",
      "39118.07\n",
      "90111.33\n",
      "23295.16\n",
      "78266.59\n",
      "14526.39\n",
      "73249.58\n",
      "17943.48\n",
      "81982.21\n",
      "24699.31\n",
      "6288.55\n",
      "9412.13\n",
      "7678.64\n",
      "5819.61\n",
      "9416.36\n",
      "7457.59\n",
      "10537.3\n",
      "9690.03\n"
     ]
    }
   ],
   "source": [
    "msg = Message(\n",
    "    account=account,\n",
    "    subject=\"Nozzle Sales Report - Sambalpur DO\",\n",
    "    body=HTMLBody(create_html(ws)),\n",
    "    to_recipients=['barnwalp@indianoil.in']\n",
    ")\n",
    "\n",
    "msg.send_and_save()"
   ]
  },
  {
   "cell_type": "code",
   "execution_count": null,
   "metadata": {},
   "outputs": [],
   "source": []
  }
 ],
 "metadata": {
  "kernelspec": {
   "display_name": "Python 3",
   "language": "python",
   "name": "python3"
  },
  "language_info": {
   "codemirror_mode": {
    "name": "ipython",
    "version": 3
   },
   "file_extension": ".py",
   "mimetype": "text/x-python",
   "name": "python",
   "nbconvert_exporter": "python",
   "pygments_lexer": "ipython3",
   "version": "3.8.3"
  }
 },
 "nbformat": 4,
 "nbformat_minor": 4
}
