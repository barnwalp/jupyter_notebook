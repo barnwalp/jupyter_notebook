{
 "cells": [
  {
   "cell_type": "code",
   "execution_count": 1,
   "metadata": {},
   "outputs": [],
   "source": [
    "from selenium import webdriver\n",
    "from selenium.webdriver.support import expected_conditions as EC\n",
    "from selenium.webdriver.support.ui import WebDriverWait\n",
    "from selenium.webdriver.common.by import By\n",
    "from selenium.webdriver.support.ui import Select\n",
    "import os\n",
    "from datetime import date, timedelta\n",
    "import time"
   ]
  },
  {
   "cell_type": "code",
   "execution_count": 2,
   "metadata": {},
   "outputs": [
    {
     "name": "stdout",
     "output_type": "stream",
     "text": [
      "Nozzle Sales Report (1).xlsx has been deleted\n",
      "Nozzle Sales Report.xlsx has been deleted\n"
     ]
    }
   ],
   "source": [
    "# Deleting existing .xlsx files in Download folders\n",
    "# -------------------------------------------------\n",
    "\n",
    "# Download folder path\n",
    "path = \"C:/Users/panka/Downloads/\"\n",
    "\n",
    "# Getting all the files in a variable\n",
    "files_in_downloads = os.listdir(path)\n",
    "\n",
    "# Getting all the xlsx files in a variable\n",
    "excel_files = [file for file in files_in_downloads if file.endswith('xlsx')]\n",
    "\n",
    "# Deleting all .xlsx files after a simple availability check\n",
    "if len(excel_files) > 0:\n",
    "    for file in excel_files:\n",
    "        path_to_file = os.path.join(path, file)\n",
    "        os.remove(path_to_file)\n",
    "        print(f'{file} has been deleted')\n"
   ]
  },
  {
   "cell_type": "code",
   "execution_count": 3,
   "metadata": {},
   "outputs": [],
   "source": [
    "browser = webdriver.Chrome()\n",
    "browser.get('https://spandan.indianoil.co.in/RAPHASE6/SigninPage')\n",
    "password = os.getenv('CDRSM_PASS')\n",
    "user = os.getenv('CDRSM_UNAME')"
   ]
  },
  {
   "cell_type": "code",
   "execution_count": 4,
   "metadata": {},
   "outputs": [],
   "source": [
    "# Changing the dropdown in the select form\n",
    "# select = Select(browser.find_element_by_css_selector(\"#type.form-control\"))\n",
    "# select.select_by_visible_text(\"Dealer\")\n",
    "\n",
    "browser.find_element_by_name('username').send_keys(user)\n",
    "browser.find_element_by_name('password').send_keys(password)"
   ]
  },
  {
   "cell_type": "code",
   "execution_count": 5,
   "metadata": {},
   "outputs": [],
   "source": [
    "# the trick to avoid captcha is to wait for user to enter it manually \n",
    "# and click the submit button, then wait until an element from the \n",
    "# next page is located i.e. 'global_ro_code' in this case\n",
    "element = WebDriverWait(browser, 20).until(\n",
    "    EC.presence_of_element_located((By.ID, 'global_ro_code'))\n",
    ")"
   ]
  },
  {
   "cell_type": "code",
   "execution_count": 6,
   "metadata": {},
   "outputs": [],
   "source": [
    "# data = '152110-AVTAR FILLING STATION(Sambalpur DO)'\n",
    "# browser.find_element_by_name('global_ro_code').send_keys(data)\n",
    "\"\"\"\n",
    "menu_1 = browser.find_element_by_css_selector(\".navbar-nav#tay .dropdown\")\n",
    "menu_1.click()\n",
    "menu_2 = browser.find_element_by_css_selector(\".navbar-nav#tay .dropdown .dropdown-menu>li\")\n",
    "menu_2.click()\n",
    "\"\"\"\n",
    "\n",
    "# Get into the sub-menus of the navigation bar\n",
    "browser.find_element_by_link_text('View Reports').click()\n",
    "browser.find_element_by_link_text('Sales Reports').click()\n",
    "browser.find_element_by_link_text('Nozzle Sales Report').click()\n",
    "\n",
    "# move mouse curser by xoffset and yoffset to unselect the visible menu-bar\n",
    "webdriver.ActionChains(browser).move_by_offset(10, 10).perform()"
   ]
  },
  {
   "cell_type": "code",
   "execution_count": 7,
   "metadata": {
    "scrolled": true
   },
   "outputs": [
    {
     "ename": "NoSuchElementException",
     "evalue": "Message: no such element: Unable to locate element: {\"method\":\"css selector\",\"selector\":\"[id=\"SO\"]\"}\n  (Session info: chrome=84.0.4147.135)\n",
     "output_type": "error",
     "traceback": [
      "\u001b[1;31m---------------------------------------------------------------------------\u001b[0m",
      "\u001b[1;31mNoSuchElementException\u001b[0m                    Traceback (most recent call last)",
      "\u001b[1;32m<ipython-input-7-4462b20c5db0>\u001b[0m in \u001b[0;36m<module>\u001b[1;34m\u001b[0m\n\u001b[0;32m      2\u001b[0m \u001b[1;33m\u001b[0m\u001b[0m\n\u001b[0;32m      3\u001b[0m \u001b[1;31m# selecting the dropdown in the state office input\u001b[0m\u001b[1;33m\u001b[0m\u001b[1;33m\u001b[0m\u001b[1;33m\u001b[0m\u001b[0m\n\u001b[1;32m----> 4\u001b[1;33m \u001b[0mselect\u001b[0m \u001b[1;33m=\u001b[0m \u001b[0mSelect\u001b[0m\u001b[1;33m(\u001b[0m\u001b[0mbrowser\u001b[0m\u001b[1;33m.\u001b[0m\u001b[0mfind_element_by_id\u001b[0m\u001b[1;33m(\u001b[0m\u001b[1;34m\"SO\"\u001b[0m\u001b[1;33m)\u001b[0m\u001b[1;33m)\u001b[0m\u001b[1;33m\u001b[0m\u001b[1;33m\u001b[0m\u001b[0m\n\u001b[0m\u001b[0;32m      5\u001b[0m \u001b[0mselect\u001b[0m\u001b[1;33m.\u001b[0m\u001b[0mselect_by_visible_text\u001b[0m\u001b[1;33m(\u001b[0m\u001b[1;34m\"Odisha State Office\"\u001b[0m\u001b[1;33m)\u001b[0m\u001b[1;33m\u001b[0m\u001b[1;33m\u001b[0m\u001b[0m\n\u001b[0;32m      6\u001b[0m \u001b[1;33m\u001b[0m\u001b[0m\n",
      "\u001b[1;32mc:\\users\\panka\\appdata\\local\\programs\\python\\python38-32\\lib\\site-packages\\selenium\\webdriver\\remote\\webdriver.py\u001b[0m in \u001b[0;36mfind_element_by_id\u001b[1;34m(self, id_)\u001b[0m\n\u001b[0;32m    358\u001b[0m             \u001b[0melement\u001b[0m \u001b[1;33m=\u001b[0m \u001b[0mdriver\u001b[0m\u001b[1;33m.\u001b[0m\u001b[0mfind_element_by_id\u001b[0m\u001b[1;33m(\u001b[0m\u001b[1;34m'foo'\u001b[0m\u001b[1;33m)\u001b[0m\u001b[1;33m\u001b[0m\u001b[1;33m\u001b[0m\u001b[0m\n\u001b[0;32m    359\u001b[0m         \"\"\"\n\u001b[1;32m--> 360\u001b[1;33m         \u001b[1;32mreturn\u001b[0m \u001b[0mself\u001b[0m\u001b[1;33m.\u001b[0m\u001b[0mfind_element\u001b[0m\u001b[1;33m(\u001b[0m\u001b[0mby\u001b[0m\u001b[1;33m=\u001b[0m\u001b[0mBy\u001b[0m\u001b[1;33m.\u001b[0m\u001b[0mID\u001b[0m\u001b[1;33m,\u001b[0m \u001b[0mvalue\u001b[0m\u001b[1;33m=\u001b[0m\u001b[0mid_\u001b[0m\u001b[1;33m)\u001b[0m\u001b[1;33m\u001b[0m\u001b[1;33m\u001b[0m\u001b[0m\n\u001b[0m\u001b[0;32m    361\u001b[0m \u001b[1;33m\u001b[0m\u001b[0m\n\u001b[0;32m    362\u001b[0m     \u001b[1;32mdef\u001b[0m \u001b[0mfind_elements_by_id\u001b[0m\u001b[1;33m(\u001b[0m\u001b[0mself\u001b[0m\u001b[1;33m,\u001b[0m \u001b[0mid_\u001b[0m\u001b[1;33m)\u001b[0m\u001b[1;33m:\u001b[0m\u001b[1;33m\u001b[0m\u001b[1;33m\u001b[0m\u001b[0m\n",
      "\u001b[1;32mc:\\users\\panka\\appdata\\local\\programs\\python\\python38-32\\lib\\site-packages\\selenium\\webdriver\\remote\\webdriver.py\u001b[0m in \u001b[0;36mfind_element\u001b[1;34m(self, by, value)\u001b[0m\n\u001b[0;32m    974\u001b[0m                 \u001b[0mby\u001b[0m \u001b[1;33m=\u001b[0m \u001b[0mBy\u001b[0m\u001b[1;33m.\u001b[0m\u001b[0mCSS_SELECTOR\u001b[0m\u001b[1;33m\u001b[0m\u001b[1;33m\u001b[0m\u001b[0m\n\u001b[0;32m    975\u001b[0m                 \u001b[0mvalue\u001b[0m \u001b[1;33m=\u001b[0m \u001b[1;34m'[name=\"%s\"]'\u001b[0m \u001b[1;33m%\u001b[0m \u001b[0mvalue\u001b[0m\u001b[1;33m\u001b[0m\u001b[1;33m\u001b[0m\u001b[0m\n\u001b[1;32m--> 976\u001b[1;33m         return self.execute(Command.FIND_ELEMENT, {\n\u001b[0m\u001b[0;32m    977\u001b[0m             \u001b[1;34m'using'\u001b[0m\u001b[1;33m:\u001b[0m \u001b[0mby\u001b[0m\u001b[1;33m,\u001b[0m\u001b[1;33m\u001b[0m\u001b[1;33m\u001b[0m\u001b[0m\n\u001b[0;32m    978\u001b[0m             'value': value})['value']\n",
      "\u001b[1;32mc:\\users\\panka\\appdata\\local\\programs\\python\\python38-32\\lib\\site-packages\\selenium\\webdriver\\remote\\webdriver.py\u001b[0m in \u001b[0;36mexecute\u001b[1;34m(self, driver_command, params)\u001b[0m\n\u001b[0;32m    319\u001b[0m         \u001b[0mresponse\u001b[0m \u001b[1;33m=\u001b[0m \u001b[0mself\u001b[0m\u001b[1;33m.\u001b[0m\u001b[0mcommand_executor\u001b[0m\u001b[1;33m.\u001b[0m\u001b[0mexecute\u001b[0m\u001b[1;33m(\u001b[0m\u001b[0mdriver_command\u001b[0m\u001b[1;33m,\u001b[0m \u001b[0mparams\u001b[0m\u001b[1;33m)\u001b[0m\u001b[1;33m\u001b[0m\u001b[1;33m\u001b[0m\u001b[0m\n\u001b[0;32m    320\u001b[0m         \u001b[1;32mif\u001b[0m \u001b[0mresponse\u001b[0m\u001b[1;33m:\u001b[0m\u001b[1;33m\u001b[0m\u001b[1;33m\u001b[0m\u001b[0m\n\u001b[1;32m--> 321\u001b[1;33m             \u001b[0mself\u001b[0m\u001b[1;33m.\u001b[0m\u001b[0merror_handler\u001b[0m\u001b[1;33m.\u001b[0m\u001b[0mcheck_response\u001b[0m\u001b[1;33m(\u001b[0m\u001b[0mresponse\u001b[0m\u001b[1;33m)\u001b[0m\u001b[1;33m\u001b[0m\u001b[1;33m\u001b[0m\u001b[0m\n\u001b[0m\u001b[0;32m    322\u001b[0m             response['value'] = self._unwrap_value(\n\u001b[0;32m    323\u001b[0m                 response.get('value', None))\n",
      "\u001b[1;32mc:\\users\\panka\\appdata\\local\\programs\\python\\python38-32\\lib\\site-packages\\selenium\\webdriver\\remote\\errorhandler.py\u001b[0m in \u001b[0;36mcheck_response\u001b[1;34m(self, response)\u001b[0m\n\u001b[0;32m    240\u001b[0m                 \u001b[0malert_text\u001b[0m \u001b[1;33m=\u001b[0m \u001b[0mvalue\u001b[0m\u001b[1;33m[\u001b[0m\u001b[1;34m'alert'\u001b[0m\u001b[1;33m]\u001b[0m\u001b[1;33m.\u001b[0m\u001b[0mget\u001b[0m\u001b[1;33m(\u001b[0m\u001b[1;34m'text'\u001b[0m\u001b[1;33m)\u001b[0m\u001b[1;33m\u001b[0m\u001b[1;33m\u001b[0m\u001b[0m\n\u001b[0;32m    241\u001b[0m             \u001b[1;32mraise\u001b[0m \u001b[0mexception_class\u001b[0m\u001b[1;33m(\u001b[0m\u001b[0mmessage\u001b[0m\u001b[1;33m,\u001b[0m \u001b[0mscreen\u001b[0m\u001b[1;33m,\u001b[0m \u001b[0mstacktrace\u001b[0m\u001b[1;33m,\u001b[0m \u001b[0malert_text\u001b[0m\u001b[1;33m)\u001b[0m\u001b[1;33m\u001b[0m\u001b[1;33m\u001b[0m\u001b[0m\n\u001b[1;32m--> 242\u001b[1;33m         \u001b[1;32mraise\u001b[0m \u001b[0mexception_class\u001b[0m\u001b[1;33m(\u001b[0m\u001b[0mmessage\u001b[0m\u001b[1;33m,\u001b[0m \u001b[0mscreen\u001b[0m\u001b[1;33m,\u001b[0m \u001b[0mstacktrace\u001b[0m\u001b[1;33m)\u001b[0m\u001b[1;33m\u001b[0m\u001b[1;33m\u001b[0m\u001b[0m\n\u001b[0m\u001b[0;32m    243\u001b[0m \u001b[1;33m\u001b[0m\u001b[0m\n\u001b[0;32m    244\u001b[0m     \u001b[1;32mdef\u001b[0m \u001b[0m_value_or_default\u001b[0m\u001b[1;33m(\u001b[0m\u001b[0mself\u001b[0m\u001b[1;33m,\u001b[0m \u001b[0mobj\u001b[0m\u001b[1;33m,\u001b[0m \u001b[0mkey\u001b[0m\u001b[1;33m,\u001b[0m \u001b[0mdefault\u001b[0m\u001b[1;33m)\u001b[0m\u001b[1;33m:\u001b[0m\u001b[1;33m\u001b[0m\u001b[1;33m\u001b[0m\u001b[0m\n",
      "\u001b[1;31mNoSuchElementException\u001b[0m: Message: no such element: Unable to locate element: {\"method\":\"css selector\",\"selector\":\"[id=\"SO\"]\"}\n  (Session info: chrome=84.0.4147.135)\n"
     ]
    }
   ],
   "source": [
    "browser.implicitly_wait(10)\n",
    "\n",
    "# selecting the dropdown in the state office input\n",
    "select = Select(browser.find_element_by_id(\"SO\"))\n",
    "select.select_by_visible_text(\"Odisha State Office\")\n",
    "\n",
    "# selecting the dropdown in the divisional office input\n",
    "select = Select(browser.find_element_by_id(\"DO\"))\n",
    "select.select_by_visible_text(\"Sambalpur DO\")\n",
    "\n",
    "# selecting the dropdown in the sales area input\n",
    "select = Select(browser.find_element_by_id(\"SA\"))\n",
    "\n",
    "browser.implicitly_wait(10)\n",
    "\n",
    "# since the values in the dropdown activates after selection of preceding input.( eg\n",
    "# SA dropdown activates only after Divisional office get selected); hence it is \n",
    "# prudent to wait untill all the text is present in the box\n",
    "\n",
    "element = WebDriverWait(browser, 20).until(\n",
    "    EC.text_to_be_present_in_element((By.ID, 'SA'), 'ALL')\n",
    ")\n",
    "\n",
    "# Download the first excel file\n",
    "browser.find_element_by_id('excelButton').click()"
   ]
  },
  {
   "cell_type": "code",
   "execution_count": null,
   "metadata": {},
   "outputs": [],
   "source": [
    "# Check if the first file is downloaded\n",
    "path_to_file = 'C:/Users/panka/Downloads/Nozzle Sales Report.xlsx'\n",
    "while not os.path.exists(path_to_file):\n",
    "    time.sleep(2)\n",
    "    \n",
    "print(f'{path_to_file} exists')"
   ]
  },
  {
   "cell_type": "code",
   "execution_count": null,
   "metadata": {},
   "outputs": [],
   "source": [
    "# selecting date using datepicker calendar\n",
    "datepicker = browser.find_element_by_id('datetimepicker')\n",
    "# opening the calendar using the datepicker\n",
    "datepicker.click()\n",
    "\n",
    "browser.implicitly_wait(10)\n",
    "\n",
    "# getting today's day\n",
    "current_day = date.today().day\n",
    "\n",
    "# selecting all elements with the class 'ui-state-defualt'. this\n",
    "# element will only appear after the calendar is open through datepicker\n",
    "# days is a list of selenium specific data structure\n",
    "days = browser.find_elements_by_css_selector('.day')\n",
    "\n",
    "print(current_day)\n",
    "\n",
    "# this will print the text of the 18th value of the days list \n",
    "print(days[17].text)\n",
    "# days[17].click()\n",
    "# print(days)\n",
    "# print(days[6])\n",
    "# print(type(days[6]))\n",
    "\n",
    "# Since there are double occurence of few tail days such as 29, 30, 31\n",
    "# in the calendar, it is imperative that correct day is choosen while\n",
    "# selecting the date. It can be inferred that current date will always \n",
    "# come after day 1, so to locate the current day, one need to traverse\n",
    "# from day 1 to day2 ....... day 31 and discard old days of previous month\n",
    "\n",
    "# Now one need to find the index of the day 1 of the current month\n",
    "for index, val in enumerate(days):\n",
    "    if val.text == '1':\n",
    "        day_1_index = index\n",
    "        print(day_1_index)\n",
    "        break\n",
    "\n",
    "# Given the index of day 1, we have to first find the index of today\n",
    "# in the calendar. Thereafter one can navigate to the preceeding days\n",
    "# using the index of the days list. Following will find the index of \n",
    "# current date and will store it in anchor variable.\n",
    "\n",
    "for index, val in enumerate(days):\n",
    "    if index >= day_1_index:\n",
    "        if val.text == str(current_day):\n",
    "            print(val.text)\n",
    "            anchor = index\n",
    "            print(anchor)\n",
    "            break\n",
    "\n",
    "# This will select the day, 4 days prior from the current day.\n",
    "days[(anchor-4)].click()\n",
    "\n",
    "browser.implicitly_wait(10)\n",
    "\n",
    "# selecting second date calendar using datepicker1\n",
    "# ----------------------------------------\n",
    "datepicker_2 = browser.find_element_by_id('datetimepicker1')\n",
    "datepicker_2.click()\n",
    "\n",
    "browser.implicitly_wait(10)\n",
    "\n",
    "days = browser.find_elements_by_css_selector('.day')\n",
    "\n",
    "# This will select the day, 3 days prior from the current day.\n",
    "days[(anchor-3)].click()"
   ]
  },
  {
   "cell_type": "code",
   "execution_count": null,
   "metadata": {},
   "outputs": [],
   "source": [
    "# print(select.options[0])\n",
    "#print(len(select.options))\n",
    "\n",
    "# Download the excel file\n",
    "browser.find_element_by_id('excelButton').click()"
   ]
  },
  {
   "cell_type": "code",
   "execution_count": null,
   "metadata": {},
   "outputs": [],
   "source": [
    "import pandas as pd\n",
    "from openpyxl import load_workbook\n",
    "import openpyxl\n",
    "import numpy as np\n",
    "from datetime import date, timedelta"
   ]
  },
  {
   "cell_type": "code",
   "execution_count": null,
   "metadata": {},
   "outputs": [],
   "source": [
    "def cell_to_num(char):\n",
    "    char = char.upper()\n",
    "    if char.isalpha():\n",
    "        num = ord(char) - 64\n",
    "    else:\n",
    "        num = 0\n",
    "    return num\n",
    "print(cell_to_num('a'))"
   ]
  },
  {
   "cell_type": "code",
   "execution_count": null,
   "metadata": {},
   "outputs": [],
   "source": [
    "# Windows file system\n",
    "first_file = 'C:/Users/panka/Downloads/Nozzle Sales Report.xlsx'\n",
    "second_file = 'C:/Users/panka/Downloads/Nozzle Sales Report (1).xlsx'\n",
    "\"\"\"\n",
    "# linux file system\n",
    "first_file = '/mnt/c/Users/panka/Downloads/Nozzle Sales Report.xlsx'\n",
    "second_file = '/mnt/c/Users/panka/Downloads/Nozzle Sales Report (1).xlsx'\n",
    "\"\"\"\n",
    "wb_check = load_workbook(first_file)"
   ]
  },
  {
   "cell_type": "code",
   "execution_count": null,
   "metadata": {},
   "outputs": [],
   "source": [
    "def data_cleaning(path):\n",
    "    wb = load_workbook(path)\n",
    "    ws = wb.active\n",
    "    \n",
    "    #Unmerge cell\n",
    "    ws.unmerge_cells('O1:P1')\n",
    "    ws.unmerge_cells('Q1:R1')\n",
    "    ws.unmerge_cells('S1:T1')\n",
    "    ws.unmerge_cells('U1:V1')\n",
    "    if path[-7] == '1':\n",
    "        #renaming issue_sale value with dates\n",
    "        ws['S1'] = str(date.today() - timedelta(days=4))\n",
    "        ws['T1'] = str(date.today() - timedelta(days=3))\n",
    "    else:\n",
    "        ws['S1'] = str(date.today() - timedelta(days=2))    \n",
    "        ws['T1'] = str(date.today() - timedelta(days=1))\n",
    "    \n",
    "    print(ws['S1'].value)\n",
    "    print(ws['T1'].value)    \n",
    "    \n",
    "    #Delete column U:V\n",
    "    ws.delete_cols(cell_to_num('U'), cell_to_num('V')-cell_to_num('U')+1)\n",
    "    #Delete column O:R\n",
    "    ws.delete_cols(cell_to_num('O'), cell_to_num('R')-cell_to_num('O')+1)\n",
    "    #Delete column K:M\n",
    "    ws.delete_cols(cell_to_num('K'), cell_to_num('M')-cell_to_num('K')+1)\n",
    "    #Delete column B:F\n",
    "    ws.delete_cols(cell_to_num('B'), cell_to_num('F')-cell_to_num('B')+1)\n",
    "    #Delete second row\n",
    "    ws.delete_rows(2)\n",
    "    wb.save(path)"
   ]
  },
  {
   "cell_type": "code",
   "execution_count": null,
   "metadata": {},
   "outputs": [],
   "source": [
    "def create_pivot(path):\n",
    "    #reading excel file using pandas\n",
    "    old_df = pd.read_excel(path)\n",
    "    current_wb = load_workbook(path)\n",
    "    ws = current_wb.active\n",
    "    \n",
    "    #filter out the 'NA' value in the product column\n",
    "    df = old_df[\n",
    "        (old_df['Product'] == 'XP') |\n",
    "        (old_df['Product'] == 'HS') |\n",
    "        (old_df['Product'] == 'MS')\n",
    "    ]\n",
    "    \n",
    "    df.loc[df['Product'] == 'XP', 'Product'] = 'MS'\n",
    "    \n",
    "    pvt_all = pd.pivot_table(df,\n",
    "                            index=[\"SA\"],\n",
    "                            columns=['Product'],\n",
    "                            values=[ws['H1'].value, ws['G1'].value],\n",
    "                            aggfunc=np.sum)\n",
    "    return pvt_all"
   ]
  },
  {
   "cell_type": "code",
   "execution_count": null,
   "metadata": {},
   "outputs": [],
   "source": [
    "data_cleaning(first_file)\n",
    "data_cleaning(second_file)"
   ]
  },
  {
   "cell_type": "code",
   "execution_count": null,
   "metadata": {},
   "outputs": [],
   "source": [
    "pvt = pd.concat([create_pivot(first_file), create_pivot(second_file)], axis=1)\n",
    "print(pvt)"
   ]
  },
  {
   "cell_type": "code",
   "execution_count": null,
   "metadata": {},
   "outputs": [],
   "source": [
    "with pd.ExcelWriter(first_file, engine='openpyxl') as writer:\n",
    "    writer.book = load_workbook(first_file)\n",
    "    pvt.to_excel(writer, 'pivot sheet', index=True)"
   ]
  },
  {
   "cell_type": "code",
   "execution_count": null,
   "metadata": {},
   "outputs": [],
   "source": [
    "df = pd.read_excel(first_file, sheet_name='pivot sheet')\n",
    "print(df.columns.values)"
   ]
  },
  {
   "cell_type": "code",
   "execution_count": null,
   "metadata": {},
   "outputs": [],
   "source": [
    "cols = df.columns.values\n",
    "order = [0, 3, 4, 1, 2, 7, 8, 5, 6]\n",
    "cols = [cols[i] for i in order]\n",
    "print(cols)"
   ]
  },
  {
   "cell_type": "code",
   "execution_count": null,
   "metadata": {},
   "outputs": [],
   "source": [
    "df = df[cols]\n",
    "print(df)"
   ]
  },
  {
   "cell_type": "code",
   "execution_count": null,
   "metadata": {},
   "outputs": [],
   "source": [
    "with pd.ExcelWriter(first_file, engine='openpyxl') as writer:\n",
    "    writer.book = load_workbook(first_file)\n",
    "    df.to_excel(writer, 'summary', index=False)"
   ]
  },
  {
   "cell_type": "code",
   "execution_count": null,
   "metadata": {},
   "outputs": [],
   "source": [
    "wb = load_workbook(first_file)\n",
    "ws = wb['summary']\n",
    "ws.delete_rows(3)\n",
    "check = 0\n",
    "for value in ws.iter_rows(min_row=1, max_row=1):\n",
    "    for cell in value:\n",
    "        if check % 2 == 0:\n",
    "            cell.value = \"\"\n",
    "        check += 1\n",
    "        print(cell.value)\n",
    "# print(df.columns.values)\n",
    "print(ws['A3'].value)"
   ]
  },
  {
   "cell_type": "code",
   "execution_count": null,
   "metadata": {},
   "outputs": [],
   "source": [
    "from exchangelib import Account, Message, Credentials, HTMLBody\n",
    "from exchangelib import Configuration, DELEGATE\n",
    "import os"
   ]
  },
  {
   "cell_type": "code",
   "execution_count": null,
   "metadata": {},
   "outputs": [],
   "source": [
    "outlook_user = os.environ.get('OUTLOOK_USER')\n",
    "outlook_password = os.environ.get('OUTLOOK_PASS')\n",
    "outlook_server = os.environ.get('OUTLOOK_SERVER')\n",
    "outlook_email = os.environ.get('OUTLOOK_EMAIL')\n",
    "\n",
    "print(os.getenv('OUTLOOK_USER'))\n",
    "print(os.getenv('OUTLOOK_PASS'))"
   ]
  },
  {
   "cell_type": "code",
   "execution_count": null,
   "metadata": {},
   "outputs": [],
   "source": [
    "credentials = Credentials(username=outlook_user,\n",
    "                         password=outlook_password\n",
    "                         )\n",
    "config = Configuration(server=outlook_server,\n",
    "                      credentials=credentials)\n",
    "account = Account(primary_smtp_address=outlook_email,\n",
    "                 config=config,\n",
    "                 autodiscover=False,\n",
    "                 access_type=DELEGATE)"
   ]
  },
  {
   "cell_type": "code",
   "execution_count": null,
   "metadata": {},
   "outputs": [],
   "source": [
    "def create_html(ws):\n",
    "    html = \"\"\"\n",
    "    <html><body><h3>Nozzle Sales Report:</h3>\n",
    "    <table border=1>\n",
    "    \"\"\"\n",
    "    # entering header data in html\n",
    "    for whole_row in ws.iter_rows(min_row=1, max_row=2):\n",
    "        html += \"<tr>\"\n",
    "        for row in whole_row:\n",
    "            html += f'<th>{row.value}</th>'\n",
    "        html += \"</tr>\"\n",
    "    # entering table data in html\n",
    "    for whole_row in ws.iter_rows(min_row=3):\n",
    "        html += \"<tr>\"\n",
    "        for row in whole_row:\n",
    "            if isinstance(row.value, float):\n",
    "                html += f'<td>{round(row.value, 2)}</td>'\n",
    "                print(round(row.value, 2))\n",
    "            else:\n",
    "                html += f'<td>{row.value}</td>'\n",
    "        html += \"</tr>\"\n",
    "    html += \"\"\"\n",
    "    </table>\n",
    "    <p>\n",
    "    <br>\n",
    "    With Regards<br>\n",
    "    Pankaj Barnwal<br>\n",
    "    </p>\n",
    "    </body>\n",
    "    </html>\n",
    "    \"\"\"\n",
    "    return html"
   ]
  },
  {
   "cell_type": "code",
   "execution_count": null,
   "metadata": {},
   "outputs": [],
   "source": [
    "msg = Message(\n",
    "    account=account,\n",
    "    subject=\"Nozzle Sales Report - Sambalpur DO\",\n",
    "    body=HTMLBody(create_html(ws)),\n",
    "    to_recipients=['barnwalp@indianoil.in']\n",
    ")\n",
    "\n",
    "msg.send_and_save()"
   ]
  },
  {
   "cell_type": "code",
   "execution_count": null,
   "metadata": {},
   "outputs": [],
   "source": []
  }
 ],
 "metadata": {
  "kernelspec": {
   "display_name": "Python 3",
   "language": "python",
   "name": "python3"
  },
  "language_info": {
   "codemirror_mode": {
    "name": "ipython",
    "version": 3
   },
   "file_extension": ".py",
   "mimetype": "text/x-python",
   "name": "python",
   "nbconvert_exporter": "python",
   "pygments_lexer": "ipython3",
   "version": "3.8.3"
  }
 },
 "nbformat": 4,
 "nbformat_minor": 4
}
