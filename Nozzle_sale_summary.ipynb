{
 "cells": [
  {
   "cell_type": "code",
   "execution_count": 1,
   "metadata": {},
   "outputs": [],
   "source": [
    "import pandas as pd\n",
    "from openpyxl import load_workbook\n",
    "import openpyxl\n",
    "import numpy as np\n",
    "from datetime import date, timedelta"
   ]
  },
  {
   "cell_type": "code",
   "execution_count": 2,
   "metadata": {},
   "outputs": [
    {
     "name": "stdout",
     "output_type": "stream",
     "text": [
      "1\n"
     ]
    }
   ],
   "source": [
    "def cell_to_num(char):\n",
    "    char = char.upper()\n",
    "    if char.isalpha():\n",
    "        num = ord(char) - 64\n",
    "    else:\n",
    "        num = 0\n",
    "    return num\n",
    "print(cell_to_num('a'))"
   ]
  },
  {
   "cell_type": "code",
   "execution_count": 3,
   "metadata": {},
   "outputs": [
    {
     "name": "stderr",
     "output_type": "stream",
     "text": [
      "/home/pankaj/.local/lib/python3.8/site-packages/openpyxl/styles/stylesheet.py:214: UserWarning: Workbook contains no default style, apply openpyxl's default\n",
      "  warn(\"Workbook contains no default style, apply openpyxl's default\")\n"
     ]
    }
   ],
   "source": [
    "\"\"\"\n",
    "# Windows file system\n",
    "first_file = 'C:/Users/panka/Downloads/Nozzle Sales Report.xlsx'\n",
    "second_file = 'C:/Users/panka/Downloads/Nozzle Sales Report (1).xlsx'\n",
    "\"\"\"\n",
    "# linux file system\n",
    "first_file = '/mnt/c/Users/panka/Downloads/Nozzle Sales Report.xlsx'\n",
    "second_file = '/mnt/c/Users/panka/Downloads/Nozzle Sales Report (1).xlsx'\n",
    "\n",
    "wb_check = load_workbook(first_file)"
   ]
  },
  {
   "cell_type": "code",
   "execution_count": 4,
   "metadata": {},
   "outputs": [],
   "source": [
    "def data_cleaning(path):\n",
    "    wb = load_workbook(path)\n",
    "    ws = wb.active\n",
    "    \n",
    "    #Unmerge cell\n",
    "    ws.unmerge_cells('O1:P1')\n",
    "    ws.unmerge_cells('Q1:R1')\n",
    "    ws.unmerge_cells('S1:T1')\n",
    "    ws.unmerge_cells('U1:V1')\n",
    "    if path[-7] == '1':\n",
    "        #renaming issue_sale value with dates\n",
    "        ws['S1'] = str(date.today() - timedelta(days=4))\n",
    "        ws['T1'] = str(date.today() - timedelta(days=3))\n",
    "    else:\n",
    "        ws['S1'] = str(date.today() - timedelta(days=2))    \n",
    "        ws['T1'] = str(date.today() - timedelta(days=1))\n",
    "    \n",
    "    print(ws['S1'].value)\n",
    "    print(ws['T1'].value)    \n",
    "    \n",
    "    #Delete column U:V\n",
    "    ws.delete_cols(cell_to_num('U'), cell_to_num('V')-cell_to_num('U')+1)\n",
    "    #Delete column O:R\n",
    "    ws.delete_cols(cell_to_num('O'), cell_to_num('R')-cell_to_num('O')+1)\n",
    "    #Delete column K:M\n",
    "    ws.delete_cols(cell_to_num('K'), cell_to_num('M')-cell_to_num('K')+1)\n",
    "    #Delete column B:F\n",
    "    ws.delete_cols(cell_to_num('B'), cell_to_num('F')-cell_to_num('B')+1)\n",
    "    #Delete second row\n",
    "    ws.delete_rows(2)\n",
    "    wb.save(path)"
   ]
  },
  {
   "cell_type": "code",
   "execution_count": 5,
   "metadata": {},
   "outputs": [],
   "source": [
    "def create_pivot(path):\n",
    "    #reading excel file using pandas\n",
    "    old_df = pd.read_excel(path)\n",
    "    current_wb = load_workbook(path)\n",
    "    ws = current_wb.active\n",
    "    \n",
    "    #filter out the 'NA' value in the product column\n",
    "    df = old_df[\n",
    "        (old_df['Product'] == 'XP') |\n",
    "        (old_df['Product'] == 'HS') |\n",
    "        (old_df['Product'] == 'MS')\n",
    "    ]\n",
    "    \n",
    "    df.loc[df['Product'] == 'XP', 'Product'] = 'MS'\n",
    "    \n",
    "    pvt_all = pd.pivot_table(df,\n",
    "                            index=[\"SA\"],\n",
    "                            columns=['Product'],\n",
    "                            values=[ws['H1'].value, ws['G1'].value],\n",
    "                            aggfunc=np.sum)\n",
    "    return pvt_all"
   ]
  },
  {
   "cell_type": "code",
   "execution_count": 6,
   "metadata": {},
   "outputs": [
    {
     "name": "stdout",
     "output_type": "stream",
     "text": [
      "2020-08-15\n",
      "2020-08-16\n",
      "2020-08-13\n",
      "2020-08-14\n"
     ]
    }
   ],
   "source": [
    "data_cleaning(first_file)\n",
    "data_cleaning(second_file)"
   ]
  },
  {
   "cell_type": "code",
   "execution_count": 7,
   "metadata": {},
   "outputs": [
    {
     "name": "stderr",
     "output_type": "stream",
     "text": [
      "/home/pankaj/.local/lib/python3.8/site-packages/pandas/core/indexing.py:966: SettingWithCopyWarning: \n",
      "A value is trying to be set on a copy of a slice from a DataFrame.\n",
      "Try using .loc[row_indexer,col_indexer] = value instead\n",
      "\n",
      "See the caveats in the documentation: https://pandas.pydata.org/pandas-docs/stable/user_guide/indexing.html#returning-a-view-versus-a-copy\n",
      "  self.obj[item] = s\n"
     ]
    },
    {
     "name": "stdout",
     "output_type": "stream",
     "text": [
      "                     2020-08-15           2020-08-16           2020-08-13  \\\n",
      "Product                      HS        MS         HS        MS         HS   \n",
      "SA                                                                          \n",
      "Fuels- Bargarh(R)      31895.36  26181.34   32835.87  25309.81   46140.90   \n",
      "Fuels-Bhawanipatna(R   41181.62  36227.61   39575.28  31448.45   54084.04   \n",
      "Fuels-JEYPORE(R)       53480.23  36270.35   47631.13  36432.09   75655.73   \n",
      "Fuels-Jharsuguda(R)   109397.97  22622.13   72217.43  34428.30  145544.91   \n",
      "Fuels-ROURKELA(R)     156148.62  14200.72  257047.72  38350.67  354432.47   \n",
      "Fuels-SAMBALPUR (R)    55817.30  18547.76   65399.96  19522.03   86276.04   \n",
      "Keonjhar I RSA         59621.21  12507.04   81790.96  17245.70  136050.58   \n",
      "Keonjhar II RSA         4921.45   4074.54    3542.55   6051.71    9021.27   \n",
      "\n",
      "                                2020-08-14            \n",
      "Product                      MS         HS        MS  \n",
      "SA                                                    \n",
      "Fuels- Bargarh(R)     45289.602   51458.34  53666.50  \n",
      "Fuels-Bhawanipatna(R  42879.090   56846.22  44636.13  \n",
      "Fuels-JEYPORE(R)      48361.130   80707.99  53990.72  \n",
      "Fuels-Jharsuguda(R)   41706.540  156818.81  47669.08  \n",
      "Fuels-ROURKELA(R)     46582.490  358783.29  71375.65  \n",
      "Fuels-SAMBALPUR (R)   37026.410   87110.36  39798.29  \n",
      "Keonjhar I RSA        20765.560  109009.41  25916.10  \n",
      "Keonjhar II RSA        7763.970    8665.76   9613.78  \n"
     ]
    }
   ],
   "source": [
    "pvt = pd.concat([create_pivot(first_file), create_pivot(second_file)], axis=1)\n",
    "print(pvt)"
   ]
  },
  {
   "cell_type": "code",
   "execution_count": 8,
   "metadata": {},
   "outputs": [],
   "source": [
    "with pd.ExcelWriter(first_file, engine='openpyxl') as writer:\n",
    "    writer.book = load_workbook(first_file)\n",
    "    pvt.to_excel(writer, 'pivot sheet', index=True)"
   ]
  },
  {
   "cell_type": "code",
   "execution_count": 9,
   "metadata": {},
   "outputs": [
    {
     "name": "stdout",
     "output_type": "stream",
     "text": [
      "['Unnamed: 0' '2020-08-15' 'Unnamed: 2' '2020-08-16' 'Unnamed: 4'\n",
      " '2020-08-13' 'Unnamed: 6' '2020-08-14' 'Unnamed: 8']\n"
     ]
    }
   ],
   "source": [
    "df = pd.read_excel(first_file, sheet_name='pivot sheet')\n",
    "print(df.columns.values)"
   ]
  },
  {
   "cell_type": "code",
   "execution_count": 10,
   "metadata": {},
   "outputs": [
    {
     "name": "stdout",
     "output_type": "stream",
     "text": [
      "['Unnamed: 0', '2020-08-16', 'Unnamed: 4', '2020-08-15', 'Unnamed: 2', '2020-08-14', 'Unnamed: 8', '2020-08-13', 'Unnamed: 6']\n"
     ]
    }
   ],
   "source": [
    "cols = df.columns.values\n",
    "order = [0, 3, 4, 1, 2, 7, 8, 5, 6]\n",
    "cols = [cols[i] for i in order]\n",
    "print(cols)"
   ]
  },
  {
   "cell_type": "code",
   "execution_count": 11,
   "metadata": {},
   "outputs": [
    {
     "name": "stdout",
     "output_type": "stream",
     "text": [
      "             Unnamed: 0 2020-08-16 Unnamed: 4 2020-08-15 Unnamed: 2  \\\n",
      "0               Product         HS         MS         HS         MS   \n",
      "1                    SA        NaN        NaN        NaN        NaN   \n",
      "2     Fuels- Bargarh(R)    32835.9    25309.8    31895.4    26181.3   \n",
      "3  Fuels-Bhawanipatna(R    39575.3    31448.5    41181.6    36227.6   \n",
      "4      Fuels-JEYPORE(R)    47631.1    36432.1    53480.2    36270.4   \n",
      "5   Fuels-Jharsuguda(R)    72217.4    34428.3     109398    22622.1   \n",
      "6     Fuels-ROURKELA(R)     257048    38350.7     156149    14200.7   \n",
      "7   Fuels-SAMBALPUR (R)      65400      19522    55817.3    18547.8   \n",
      "8        Keonjhar I RSA      81791    17245.7    59621.2      12507   \n",
      "9       Keonjhar II RSA    3542.55    6051.71    4921.45    4074.54   \n",
      "\n",
      "  2020-08-14 Unnamed: 8 2020-08-13 Unnamed: 6  \n",
      "0         HS         MS         HS         MS  \n",
      "1        NaN        NaN        NaN        NaN  \n",
      "2    51458.3    53666.5    46140.9    45289.6  \n",
      "3    56846.2    44636.1      54084    42879.1  \n",
      "4      80708    53990.7    75655.7    48361.1  \n",
      "5     156819    47669.1     145545    41706.5  \n",
      "6     358783    71375.7     354432    46582.5  \n",
      "7    87110.4    39798.3      86276    37026.4  \n",
      "8     109009    25916.1     136051    20765.6  \n",
      "9    8665.76    9613.78    9021.27    7763.97  \n"
     ]
    }
   ],
   "source": [
    "df = df[cols]\n",
    "print(df)"
   ]
  },
  {
   "cell_type": "code",
   "execution_count": 12,
   "metadata": {},
   "outputs": [],
   "source": [
    "with pd.ExcelWriter(first_file, engine='openpyxl') as writer:\n",
    "    writer.book = load_workbook(first_file)\n",
    "    df.to_excel(writer, 'summary', index=False)"
   ]
  },
  {
   "cell_type": "code",
   "execution_count": 13,
   "metadata": {},
   "outputs": [
    {
     "name": "stdout",
     "output_type": "stream",
     "text": [
      "\n",
      "2020-08-16\n",
      "\n",
      "2020-08-15\n",
      "\n",
      "2020-08-14\n",
      "\n",
      "2020-08-13\n",
      "\n",
      "Fuels- Bargarh(R)\n"
     ]
    }
   ],
   "source": [
    "wb = load_workbook(first_file)\n",
    "ws = wb['summary']\n",
    "ws.delete_rows(3)\n",
    "check = 0\n",
    "for value in ws.iter_rows(min_row=1, max_row=1):\n",
    "    for cell in value:\n",
    "        if check % 2 == 0:\n",
    "            cell.value = \"\"\n",
    "        check += 1\n",
    "        print(cell.value)\n",
    "# print(df.columns.values)\n",
    "print(ws['A3'].value)"
   ]
  },
  {
   "cell_type": "code",
   "execution_count": 14,
   "metadata": {},
   "outputs": [
    {
     "data": {
      "text/plain": [
       "\"\\ndata = 'ABCDEFGHI'\\nfor char in data:\\n    val = char + '1'\\n    print(ws[val].value)\\n\\nprint(ws.cell(row=1, column=2).value)\\n\\n#Iterate through columns of the first row\\nfor row in ws.iter_rows(min_row=1, max_row=1):\\n    for cell in row:\\n        print(cell.value)\\n\""
      ]
     },
     "execution_count": 14,
     "metadata": {},
     "output_type": "execute_result"
    }
   ],
   "source": [
    "\"\"\"\n",
    "data = 'ABCDEFGHI'\n",
    "for char in data:\n",
    "    val = char + '1'\n",
    "    print(ws[val].value)\n",
    "\n",
    "print(ws.cell(row=1, column=2).value)\n",
    "\n",
    "#Iterate through columns of the first row\n",
    "for row in ws.iter_rows(min_row=1, max_row=1):\n",
    "    for cell in row:\n",
    "        print(cell.value)\n",
    "\"\"\""
   ]
  },
  {
   "cell_type": "code",
   "execution_count": 15,
   "metadata": {},
   "outputs": [],
   "source": [
    "from exchangelib import Account, Message, Credentials, HTMLBody\n",
    "from exchangelib import Configuration, DELEGATE\n",
    "import os"
   ]
  },
  {
   "cell_type": "code",
   "execution_count": 16,
   "metadata": {},
   "outputs": [
    {
     "name": "stdout",
     "output_type": "stream",
     "text": [
      "ioc\\00504802\n",
      "Toptal@22\n"
     ]
    }
   ],
   "source": [
    "outlook_user = os.environ.get('OUTLOOK_USER')\n",
    "outlook_password = os.environ.get('OUTLOOK_PASS')\n",
    "outlook_server = os.environ.get('OUTLOOK_SERVER')\n",
    "outlook_email = os.environ.get('OUTLOOK_EMAIL')\n",
    "\n",
    "print(os.getenv('OUTLOOK_USER'))\n",
    "print(os.getenv('OUTLOOK_PASS'))"
   ]
  },
  {
   "cell_type": "code",
   "execution_count": 17,
   "metadata": {},
   "outputs": [],
   "source": [
    "credentials = Credentials(username=outlook_user,\n",
    "                         password=outlook_password\n",
    "                         )\n",
    "config = Configuration(server=outlook_server,\n",
    "                      credentials=credentials)\n",
    "account = Account(primary_smtp_address=outlook_email,\n",
    "                 config=config,\n",
    "                 autodiscover=False,\n",
    "                 access_type=DELEGATE)"
   ]
  },
  {
   "cell_type": "code",
   "execution_count": 18,
   "metadata": {},
   "outputs": [],
   "source": [
    "def create_html(ws):\n",
    "    html = \"\"\"\n",
    "    <html><body><h3>Nozzle Sales Report:</h3>\n",
    "    <table border=1>\n",
    "    \"\"\"\n",
    "    # entering header data in html\n",
    "    for whole_row in ws.iter_rows(min_row=1, max_row=2):\n",
    "        html += \"<tr>\"\n",
    "        for row in whole_row:\n",
    "            html += f'<th>{row.value}</th>'\n",
    "        html += \"</tr>\"\n",
    "    # entering table data in html\n",
    "    for whole_row in ws.iter_rows(min_row=3):\n",
    "        html += \"<tr>\"\n",
    "        for row in whole_row:\n",
    "            if isinstance(row.value, float):\n",
    "                html += f'<td>{round(row.value, 2)}</td>'\n",
    "                print(round(row.value, 2))\n",
    "            else:\n",
    "                html += f'<td>{row.value}</td>'\n",
    "        html += \"</tr>\"\n",
    "    html += \"\"\"\n",
    "    </table>\n",
    "    <p>\n",
    "    <br>\n",
    "    With Regards<br>\n",
    "    Pankaj Barnwal<br>\n",
    "    </p>\n",
    "    </body>\n",
    "    </html>\n",
    "    \"\"\"\n",
    "    return html"
   ]
  },
  {
   "cell_type": "code",
   "execution_count": 19,
   "metadata": {},
   "outputs": [
    {
     "name": "stdout",
     "output_type": "stream",
     "text": [
      "32835.87\n",
      "25309.81\n",
      "31895.36\n",
      "26181.34\n",
      "51458.34\n",
      "53666.5\n",
      "46140.9\n",
      "45289.6\n",
      "39575.28\n",
      "31448.45\n",
      "41181.62\n",
      "36227.61\n",
      "56846.22\n",
      "44636.13\n",
      "54084.04\n",
      "42879.09\n",
      "47631.13\n",
      "36432.09\n",
      "53480.23\n",
      "36270.35\n",
      "80707.99\n",
      "53990.72\n",
      "75655.73\n",
      "48361.13\n",
      "72217.43\n",
      "34428.3\n",
      "109397.97\n",
      "22622.13\n",
      "156818.81\n",
      "47669.08\n",
      "145544.91\n",
      "41706.54\n",
      "257047.72\n",
      "38350.67\n",
      "156148.62\n",
      "14200.72\n",
      "358783.29\n",
      "71375.65\n",
      "354432.47\n",
      "46582.49\n",
      "65399.96\n",
      "19522.03\n",
      "55817.3\n",
      "18547.76\n",
      "87110.36\n",
      "39798.29\n",
      "86276.04\n",
      "37026.41\n",
      "81790.96\n",
      "17245.7\n",
      "59621.21\n",
      "12507.04\n",
      "109009.41\n",
      "25916.1\n",
      "136050.58\n",
      "20765.56\n",
      "3542.55\n",
      "6051.71\n",
      "4921.45\n",
      "4074.54\n",
      "8665.76\n",
      "9613.78\n",
      "9021.27\n",
      "7763.97\n"
     ]
    }
   ],
   "source": [
    "msg = Message(\n",
    "    account=account,\n",
    "    subject=\"Nozzle Sales Report - Sambalpur DO\",\n",
    "    body=HTMLBody(create_html(ws)),\n",
    "    to_recipients=['barnwalp@indianoil.in']\n",
    ")\n",
    "\n",
    "msg.send_and_save()"
   ]
  },
  {
   "cell_type": "code",
   "execution_count": null,
   "metadata": {},
   "outputs": [],
   "source": []
  },
  {
   "cell_type": "code",
   "execution_count": null,
   "metadata": {},
   "outputs": [],
   "source": []
  }
 ],
 "metadata": {
  "kernelspec": {
   "display_name": "Python 3",
   "language": "python",
   "name": "python3"
  },
  "language_info": {
   "codemirror_mode": {
    "name": "ipython",
    "version": 3
   },
   "file_extension": ".py",
   "mimetype": "text/x-python",
   "name": "python",
   "nbconvert_exporter": "python",
   "pygments_lexer": "ipython3",
   "version": "3.8.2"
  }
 },
 "nbformat": 4,
 "nbformat_minor": 4
}
