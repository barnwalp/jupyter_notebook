{
 "cells": [
  {
   "cell_type": "code",
   "execution_count": 1,
   "metadata": {},
   "outputs": [],
   "source": [
    "import pandas as pd\n",
    "from openpyxl import load_workbook\n",
    "import openpyxl\n",
    "import numpy as np\n",
    "from datetime import date, timedelta"
   ]
  },
  {
   "cell_type": "code",
   "execution_count": 2,
   "metadata": {},
   "outputs": [
    {
     "name": "stdout",
     "output_type": "stream",
     "text": [
      "1\n"
     ]
    }
   ],
   "source": [
    "def cell_to_num(char):\n",
    "    char = char.upper()\n",
    "    if char.isalpha():\n",
    "        num = ord(char) - 64\n",
    "    else:\n",
    "        num = 0\n",
    "    return num\n",
    "print(cell_to_num('a'))"
   ]
  },
  {
   "cell_type": "code",
   "execution_count": 3,
   "metadata": {},
   "outputs": [
    {
     "name": "stderr",
     "output_type": "stream",
     "text": [
      "/home/pankaj/.local/lib/python3.8/site-packages/openpyxl/styles/stylesheet.py:214: UserWarning: Workbook contains no default style, apply openpyxl's default\n",
      "  warn(\"Workbook contains no default style, apply openpyxl's default\")\n"
     ]
    }
   ],
   "source": [
    "\"\"\"\n",
    "# Windows file system\n",
    "first_file = 'C:/Users/panka/Downloads/Nozzle Sales Report.xlsx'\n",
    "second_file = 'C:/Users/panka/Downloads/Nozzle Sales Report (1).xlsx'\n",
    "\"\"\"\n",
    "# linux file system\n",
    "first_file = '/mnt/c/Users/panka/Downloads/Nozzle Sales Report.xlsx'\n",
    "second_file = '/mnt/c/Users/panka/Downloads/Nozzle Sales Report (1).xlsx'\n",
    "\n",
    "wb_check = load_workbook(first_file)"
   ]
  },
  {
   "cell_type": "code",
   "execution_count": 4,
   "metadata": {},
   "outputs": [],
   "source": [
    "def data_cleaning(path):\n",
    "    wb = load_workbook(path)\n",
    "    ws = wb.active\n",
    "    \n",
    "    #Unmerge cell\n",
    "    ws.unmerge_cells('O1:P1')\n",
    "    ws.unmerge_cells('Q1:R1')\n",
    "    ws.unmerge_cells('S1:T1')\n",
    "    ws.unmerge_cells('U1:V1')\n",
    "    if path[-7] == '1':\n",
    "        #renaming issue_sale value with dates\n",
    "        ws['S1'] = str(date.today() - timedelta(days=4))\n",
    "        ws['T1'] = str(date.today() - timedelta(days=3))\n",
    "    else:\n",
    "        ws['S1'] = str(date.today() - timedelta(days=2))    \n",
    "        ws['T1'] = str(date.today() - timedelta(days=1))\n",
    "    \n",
    "    print(ws['S1'].value)\n",
    "    print(ws['T1'].value)    \n",
    "    \n",
    "    #Delete column U:V\n",
    "    ws.delete_cols(cell_to_num('U'), cell_to_num('V')-cell_to_num('U')+1)\n",
    "    #Delete column O:R\n",
    "    ws.delete_cols(cell_to_num('O'), cell_to_num('R')-cell_to_num('O')+1)\n",
    "    #Delete column K:M\n",
    "    ws.delete_cols(cell_to_num('K'), cell_to_num('M')-cell_to_num('K')+1)\n",
    "    #Delete column B:F\n",
    "    ws.delete_cols(cell_to_num('B'), cell_to_num('F')-cell_to_num('B')+1)\n",
    "    #Delete second row\n",
    "    ws.delete_rows(2)\n",
    "    wb.save(path)"
   ]
  },
  {
   "cell_type": "code",
   "execution_count": 5,
   "metadata": {},
   "outputs": [],
   "source": [
    "def create_pivot(path):\n",
    "    #reading excel file using pandas\n",
    "    old_df = pd.read_excel(path)\n",
    "    current_wb = load_workbook(path)\n",
    "    ws = current_wb.active\n",
    "    \n",
    "    #filter out the 'NA' value in the product column\n",
    "    df = old_df[\n",
    "        (old_df['Product'] == 'XP') |\n",
    "        (old_df['Product'] == 'HS') |\n",
    "        (old_df['Product'] == 'MS')\n",
    "    ]\n",
    "    \n",
    "    df.loc[df['Product'] == 'XP', 'Product'] = 'MS'\n",
    "    \n",
    "    pvt_all = pd.pivot_table(df,\n",
    "                            index=[\"SA\"],\n",
    "                            columns=['Product'],\n",
    "                            values=[ws['H1'].value, ws['G1'].value],\n",
    "                            aggfunc=np.sum)\n",
    "    return pvt_all"
   ]
  },
  {
   "cell_type": "code",
   "execution_count": 6,
   "metadata": {},
   "outputs": [
    {
     "name": "stdout",
     "output_type": "stream",
     "text": [
      "2020-07-26\n",
      "2020-07-27\n",
      "2020-07-24\n",
      "2020-07-25\n"
     ]
    }
   ],
   "source": [
    "data_cleaning(first_file)\n",
    "data_cleaning(second_file)"
   ]
  },
  {
   "cell_type": "code",
   "execution_count": 7,
   "metadata": {},
   "outputs": [
    {
     "name": "stderr",
     "output_type": "stream",
     "text": [
      "/home/pankaj/.local/lib/python3.8/site-packages/pandas/core/indexing.py:966: SettingWithCopyWarning: \n",
      "A value is trying to be set on a copy of a slice from a DataFrame.\n",
      "Try using .loc[row_indexer,col_indexer] = value instead\n",
      "\n",
      "See the caveats in the documentation: https://pandas.pydata.org/pandas-docs/stable/user_guide/indexing.html#returning-a-view-versus-a-copy\n",
      "  self.obj[item] = s\n"
     ]
    },
    {
     "name": "stdout",
     "output_type": "stream",
     "text": [
      "                      2020-07-26            2020-07-27            2020-07-24  \\\n",
      "Product                       HS        MS          HS        MS          HS   \n",
      "SA                                                                             \n",
      "Fuels- Bargarh(R)      77143.780  26767.45   75268.595  46382.57   79148.060   \n",
      "Fuels-Bhawanipatna(R   85663.850  34282.90   98617.470  48384.95  100737.950   \n",
      "Fuels-JEYPORE(R)       88960.590  37026.94  116454.360  77550.07  143278.100   \n",
      "Fuels-Jharsuguda(R)    89383.740  23636.54  123893.000  35085.53  105291.880   \n",
      "Fuels-ROURKELA(R)     264787.380  33459.79  297054.340  38585.19  280507.700   \n",
      "Fuels-SAMBALPUR (R)   108428.850  22160.51  113849.340  37967.95  114771.750   \n",
      "Keonjhar I RSA        101078.864  11532.63  105566.910  20263.91  115044.714   \n",
      "Keonjhar II RSA        11945.410   4756.00   21604.370   7816.54   13784.780   \n",
      "\n",
      "                                2020-07-25            \n",
      "Product                     MS          HS        MS  \n",
      "SA                                                    \n",
      "Fuels- Bargarh(R)     35804.67   75558.150  22824.56  \n",
      "Fuels-Bhawanipatna(R  44706.72   94119.660  32859.00  \n",
      "Fuels-JEYPORE(R)      66587.43  107657.130  40195.61  \n",
      "Fuels-Jharsuguda(R)   34178.19  103398.040  21275.22  \n",
      "Fuels-ROURKELA(R)     33828.76  269888.340  33402.66  \n",
      "Fuels-SAMBALPUR (R)   25908.89  125161.200  19261.40  \n",
      "Keonjhar I RSA        15381.97  125629.518   8563.87  \n",
      "Keonjhar II RSA        6084.89   17227.530   4488.35  \n"
     ]
    }
   ],
   "source": [
    "pvt = pd.concat([create_pivot(first_file), create_pivot(second_file)], axis=1)\n",
    "print(pvt)"
   ]
  },
  {
   "cell_type": "code",
   "execution_count": 8,
   "metadata": {},
   "outputs": [],
   "source": [
    "with pd.ExcelWriter(first_file, engine='openpyxl') as writer:\n",
    "    writer.book = load_workbook(first_file)\n",
    "    pvt.to_excel(writer, 'pivot sheet', index=True)"
   ]
  },
  {
   "cell_type": "code",
   "execution_count": 9,
   "metadata": {},
   "outputs": [
    {
     "name": "stdout",
     "output_type": "stream",
     "text": [
      "['Unnamed: 0' '2020-07-26' 'Unnamed: 2' '2020-07-27' 'Unnamed: 4'\n",
      " '2020-07-24' 'Unnamed: 6' '2020-07-25' 'Unnamed: 8']\n"
     ]
    }
   ],
   "source": [
    "df = pd.read_excel(first_file, sheet_name='pivot sheet')\n",
    "print(df.columns.values)"
   ]
  },
  {
   "cell_type": "code",
   "execution_count": 10,
   "metadata": {},
   "outputs": [
    {
     "name": "stdout",
     "output_type": "stream",
     "text": [
      "['Unnamed: 0', '2020-07-27', 'Unnamed: 4', '2020-07-26', 'Unnamed: 2', '2020-07-25', 'Unnamed: 8', '2020-07-24', 'Unnamed: 6']\n"
     ]
    }
   ],
   "source": [
    "cols = df.columns.values\n",
    "order = [0, 3, 4, 1, 2, 7, 8, 5, 6]\n",
    "cols = [cols[i] for i in order]\n",
    "print(cols)"
   ]
  },
  {
   "cell_type": "code",
   "execution_count": 11,
   "metadata": {},
   "outputs": [
    {
     "name": "stdout",
     "output_type": "stream",
     "text": [
      "             Unnamed: 0 2020-07-27 Unnamed: 4 2020-07-26 Unnamed: 2  \\\n",
      "0               Product         HS         MS         HS         MS   \n",
      "1                    SA        NaN        NaN        NaN        NaN   \n",
      "2     Fuels- Bargarh(R)    75268.6    46382.6    77143.8    26767.4   \n",
      "3  Fuels-Bhawanipatna(R    98617.5    48384.9    85663.9    34282.9   \n",
      "4      Fuels-JEYPORE(R)     116454    77550.1    88960.6    37026.9   \n",
      "5   Fuels-Jharsuguda(R)     123893    35085.5    89383.7    23636.5   \n",
      "6     Fuels-ROURKELA(R)     297054    38585.2     264787    33459.8   \n",
      "7   Fuels-SAMBALPUR (R)     113849    37967.9     108429    22160.5   \n",
      "8        Keonjhar I RSA     105567    20263.9     101079    11532.6   \n",
      "9       Keonjhar II RSA    21604.4    7816.54    11945.4       4756   \n",
      "\n",
      "  2020-07-25 Unnamed: 8 2020-07-24 Unnamed: 6  \n",
      "0         HS         MS         HS         MS  \n",
      "1        NaN        NaN        NaN        NaN  \n",
      "2    75558.1    22824.6    79148.1    35804.7  \n",
      "3    94119.7      32859     100738    44706.7  \n",
      "4     107657    40195.6     143278    66587.4  \n",
      "5     103398    21275.2     105292    34178.2  \n",
      "6     269888    33402.7     280508    33828.8  \n",
      "7     125161    19261.4     114772    25908.9  \n",
      "8     125630    8563.87     115045      15382  \n",
      "9    17227.5    4488.35    13784.8    6084.89  \n"
     ]
    }
   ],
   "source": [
    "df = df[cols]\n",
    "print(df)"
   ]
  },
  {
   "cell_type": "code",
   "execution_count": 12,
   "metadata": {},
   "outputs": [],
   "source": [
    "with pd.ExcelWriter(first_file, engine='openpyxl') as writer:\n",
    "    writer.book = load_workbook(first_file)\n",
    "    df.to_excel(writer, 'summary', index=False)"
   ]
  },
  {
   "cell_type": "code",
   "execution_count": 13,
   "metadata": {},
   "outputs": [
    {
     "name": "stdout",
     "output_type": "stream",
     "text": [
      "\n",
      "2020-07-27\n",
      "\n",
      "2020-07-26\n",
      "\n",
      "2020-07-25\n",
      "\n",
      "2020-07-24\n",
      "\n",
      "Fuels- Bargarh(R)\n"
     ]
    }
   ],
   "source": [
    "wb = load_workbook(first_file)\n",
    "ws = wb['summary']\n",
    "ws.delete_rows(3)\n",
    "check = 0\n",
    "for value in ws.iter_rows(min_row=1, max_row=1):\n",
    "    for cell in value:\n",
    "        if check % 2 == 0:\n",
    "            cell.value = \"\"\n",
    "        check += 1\n",
    "        print(cell.value)\n",
    "# print(df.columns.values)\n",
    "print(ws['A3'].value)"
   ]
  },
  {
   "cell_type": "code",
   "execution_count": 14,
   "metadata": {},
   "outputs": [
    {
     "data": {
      "text/plain": [
       "\"\\ndata = 'ABCDEFGHI'\\nfor char in data:\\n    val = char + '1'\\n    print(ws[val].value)\\n\\nprint(ws.cell(row=1, column=2).value)\\n\\n#Iterate through columns of the first row\\nfor row in ws.iter_rows(min_row=1, max_row=1):\\n    for cell in row:\\n        print(cell.value)\\n\""
      ]
     },
     "execution_count": 14,
     "metadata": {},
     "output_type": "execute_result"
    }
   ],
   "source": [
    "\"\"\"\n",
    "data = 'ABCDEFGHI'\n",
    "for char in data:\n",
    "    val = char + '1'\n",
    "    print(ws[val].value)\n",
    "\n",
    "print(ws.cell(row=1, column=2).value)\n",
    "\n",
    "#Iterate through columns of the first row\n",
    "for row in ws.iter_rows(min_row=1, max_row=1):\n",
    "    for cell in row:\n",
    "        print(cell.value)\n",
    "\"\"\""
   ]
  },
  {
   "cell_type": "code",
   "execution_count": 15,
   "metadata": {},
   "outputs": [],
   "source": [
    "from exchangelib import Account, Message, Credentials, HTMLBody\n",
    "from exchangelib import Configuration, DELEGATE\n",
    "import os"
   ]
  },
  {
   "cell_type": "code",
   "execution_count": 16,
   "metadata": {},
   "outputs": [
    {
     "name": "stdout",
     "output_type": "stream",
     "text": [
      "ioc\\00504802\n",
      "Toptal@22\n"
     ]
    }
   ],
   "source": [
    "outlook_user = os.environ.get('OUTLOOK_USER')\n",
    "outlook_password = os.environ.get('OUTLOOK_PASS')\n",
    "outlook_server = os.environ.get('OUTLOOK_SERVER')\n",
    "outlook_email = os.environ.get('OUTLOOK_EMAIL')\n",
    "\n",
    "print(os.getenv('OUTLOOK_USER'))\n",
    "print(os.getenv('OUTLOOK_PASS'))"
   ]
  },
  {
   "cell_type": "code",
   "execution_count": 17,
   "metadata": {},
   "outputs": [],
   "source": [
    "credentials = Credentials(username=outlook_user,\n",
    "                         password=outlook_password\n",
    "                         )\n",
    "config = Configuration(server=outlook_server,\n",
    "                      credentials=credentials)\n",
    "account = Account(primary_smtp_address=outlook_email,\n",
    "                 config=config,\n",
    "                 autodiscover=False,\n",
    "                 access_type=DELEGATE)"
   ]
  },
  {
   "cell_type": "code",
   "execution_count": 18,
   "metadata": {},
   "outputs": [],
   "source": [
    "def create_html(ws):\n",
    "    html = \"\"\"\n",
    "    <html><body><h3>Nozzle Sales Report:</h3>\n",
    "    <table border=1>\n",
    "    \"\"\"\n",
    "    # entering header data in html\n",
    "    for whole_row in ws.iter_rows(min_row=1, max_row=2):\n",
    "        html += \"<tr>\"\n",
    "        for row in whole_row:\n",
    "            html += f'<th>{row.value}</th>'\n",
    "        html += \"</tr>\"\n",
    "    # entering table data in html\n",
    "    for whole_row in ws.iter_rows(min_row=3):\n",
    "        html += \"<tr>\"\n",
    "        for row in whole_row:\n",
    "            if isinstance(row.value, float):\n",
    "                html += f'<td>{round(row.value, 2)}</td>'\n",
    "                print(round(row.value, 2))\n",
    "            else:\n",
    "                html += f'<td>{row.value}</td>'\n",
    "        html += \"</tr>\"\n",
    "    html += \"\"\"\n",
    "    </table>\n",
    "    <p>\n",
    "    <br>\n",
    "    With Regards<br>\n",
    "    Pankaj Barnwal<br>\n",
    "    </p>\n",
    "    This is an auto-generated mail.\n",
    "    </body>\n",
    "    </html>\n",
    "    \"\"\"\n",
    "    return html"
   ]
  },
  {
   "cell_type": "code",
   "execution_count": 19,
   "metadata": {},
   "outputs": [
    {
     "name": "stdout",
     "output_type": "stream",
     "text": [
      "75268.6\n",
      "46382.57\n",
      "77143.78\n",
      "26767.45\n",
      "75558.15\n",
      "22824.56\n",
      "79148.06\n",
      "35804.67\n",
      "98617.47\n",
      "48384.95\n",
      "85663.85\n",
      "34282.9\n",
      "94119.66\n",
      "100737.95\n",
      "44706.72\n",
      "116454.36\n",
      "77550.07\n",
      "88960.59\n",
      "37026.94\n",
      "107657.13\n",
      "40195.61\n",
      "143278.1\n",
      "66587.43\n",
      "35085.53\n",
      "89383.74\n",
      "23636.54\n",
      "103398.04\n",
      "21275.22\n",
      "105291.88\n",
      "34178.19\n",
      "297054.34\n",
      "38585.19\n",
      "264787.38\n",
      "33459.79\n",
      "269888.34\n",
      "33402.66\n",
      "280507.7\n",
      "33828.76\n",
      "113849.34\n",
      "37967.95\n",
      "108428.85\n",
      "22160.51\n",
      "125161.2\n",
      "19261.4\n",
      "114771.75\n",
      "25908.89\n",
      "105566.91\n",
      "20263.91\n",
      "101078.86\n",
      "11532.63\n",
      "125629.52\n",
      "8563.87\n",
      "115044.71\n",
      "15381.97\n",
      "21604.37\n",
      "7816.54\n",
      "11945.41\n",
      "17227.53\n",
      "4488.35\n",
      "13784.78\n",
      "6084.89\n"
     ]
    }
   ],
   "source": [
    "msg = Message(\n",
    "    account=account,\n",
    "    subject=\"Nozzle Sales Report - Sambalpur DO\",\n",
    "    body=HTMLBody(create_html(ws)),\n",
    "    to_recipients=['barnwalp@indianoil.in']\n",
    ")\n",
    "\n",
    "msg.send_and_save()"
   ]
  },
  {
   "cell_type": "code",
   "execution_count": null,
   "metadata": {},
   "outputs": [],
   "source": []
  },
  {
   "cell_type": "code",
   "execution_count": null,
   "metadata": {},
   "outputs": [],
   "source": []
  }
 ],
 "metadata": {
  "kernelspec": {
   "display_name": "Python 3",
   "language": "python",
   "name": "python3"
  },
  "language_info": {
   "codemirror_mode": {
    "name": "ipython",
    "version": 3
   },
   "file_extension": ".py",
   "mimetype": "text/x-python",
   "name": "python",
   "nbconvert_exporter": "python",
   "pygments_lexer": "ipython3",
   "version": "3.8.2"
  }
 },
 "nbformat": 4,
 "nbformat_minor": 4
}
