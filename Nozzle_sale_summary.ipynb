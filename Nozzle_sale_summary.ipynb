{
 "cells": [
  {
   "cell_type": "code",
   "execution_count": 1,
   "metadata": {},
   "outputs": [],
   "source": [
    "import pandas as pd\n",
    "from openpyxl import load_workbook\n",
    "import openpyxl\n",
    "import numpy as np\n",
    "from datetime import date, timedelta"
   ]
  },
  {
   "cell_type": "code",
   "execution_count": 4,
   "metadata": {},
   "outputs": [
    {
     "name": "stdout",
     "output_type": "stream",
     "text": [
      "1\n"
     ]
    }
   ],
   "source": [
    "def cell_to_num(char):\n",
    "    char = char.upper()\n",
    "    if char.isalpha():\n",
    "        num = ord(char) - 64\n",
    "    else:\n",
    "        num = 0\n",
    "    return num\n",
    "print(cell_to_num('a'))"
   ]
  },
  {
   "cell_type": "code",
   "execution_count": 6,
   "metadata": {},
   "outputs": [],
   "source": [
    "first_file = 'C:/Users/panka/Downloads/Nozzle Sales Report.xlsx'\n",
    "second_file = 'C:/Users/panka/Downloads/Nozzle Sales Report (1).xlsx'"
   ]
  },
  {
   "cell_type": "code",
   "execution_count": 8,
   "metadata": {},
   "outputs": [],
   "source": [
    "def data_cleaning(path):\n",
    "    wb = load_workbook(path)\n",
    "    ws = wb.active\n",
    "    \n",
    "    #Unmerge cell\n",
    "    ws.unmerge_cells('O1:P1')\n",
    "    ws.unmerge_cells('Q1:R1')\n",
    "    ws.unmerge_cells('S1:T1')\n",
    "    ws.unmerge_cells('U1:V1')\n",
    "    if path[-7] == '1':\n",
    "        #renaming issue_sale value with dates\n",
    "        ws['S1'] = str(date.today() - timedelta(days=4))\n",
    "        ws['T1'] = str(date.today() - timedelta(days=3))\n",
    "    else:\n",
    "        ws['S1'] = str(date.today() - timedelta(days=2))    \n",
    "        ws['T1'] = str(date.today() - timedelta(days=1))\n",
    "    \n",
    "    print(ws['S1'].value)\n",
    "    print(ws['T1'].value)    \n",
    "    \n",
    "    #Delete column U:V\n",
    "    ws.delete_cols(cell_to_num('U'), cell_to_num('V')-cell_to_num('U')+1)\n",
    "    #Delete column O:R\n",
    "    ws.delete_cols(cell_to_num('O'), cell_to_num('R')-cell_to_num('O')+1)\n",
    "    #Delete column K:M\n",
    "    ws.delete_cols(cell_to_num('K'), cell_to_num('M')-cell_to_num('K')+1)\n",
    "    #Delete column B:F\n",
    "    ws.delete_cols(cell_to_num('B'), cell_to_num('F')-cell_to_num('B')+1)\n",
    "    #Delete second row\n",
    "    ws.delete_rows(2)\n",
    "    wb.save(path)"
   ]
  },
  {
   "cell_type": "code",
   "execution_count": 14,
   "metadata": {},
   "outputs": [],
   "source": [
    "def create_pivot(path):\n",
    "    #reading excel file using pandas\n",
    "    old_df = pd.read_excel(path)\n",
    "    current_wb = load_workbook(path)\n",
    "    ws = current_wb.active\n",
    "    \n",
    "    #filter out the 'NA' value in the product column\n",
    "    df = old_df[\n",
    "        (old_df['Product'] == 'XP') |\n",
    "        (old_df['Product'] == 'HS') |\n",
    "        (old_df['Product'] == 'MS')\n",
    "    ]\n",
    "    \n",
    "    df.loc[df['Product'] == 'XP', 'Product'] = 'MS'\n",
    "    \n",
    "    pvt_all = pd.pivot_table(df,\n",
    "                            index=[\"SA\"],\n",
    "                            columns=['Product'],\n",
    "                            values=[ws['H1'].value, ws['G1'].value],\n",
    "                            aggfunc=np.sum)\n",
    "    return pvt_all"
   ]
  },
  {
   "cell_type": "code",
   "execution_count": 15,
   "metadata": {},
   "outputs": [
    {
     "name": "stderr",
     "output_type": "stream",
     "text": [
      "c:\\users\\panka\\appdata\\local\\programs\\python\\python38-32\\lib\\site-packages\\openpyxl\\styles\\stylesheet.py:214: UserWarning: Workbook contains no default style, apply openpyxl's default\n",
      "  warn(\"Workbook contains no default style, apply openpyxl's default\")\n"
     ]
    },
    {
     "name": "stdout",
     "output_type": "stream",
     "text": [
      "2020-07-24\n",
      "2020-07-25\n",
      "2020-07-22\n",
      "2020-07-23\n"
     ]
    }
   ],
   "source": [
    "data_cleaning(first_file)\n",
    "data_cleaning(second_file)"
   ]
  },
  {
   "cell_type": "code",
   "execution_count": 16,
   "metadata": {},
   "outputs": [
    {
     "name": "stderr",
     "output_type": "stream",
     "text": [
      "c:\\users\\panka\\appdata\\local\\programs\\python\\python38-32\\lib\\site-packages\\pandas\\core\\indexing.py:966: SettingWithCopyWarning: \n",
      "A value is trying to be set on a copy of a slice from a DataFrame.\n",
      "Try using .loc[row_indexer,col_indexer] = value instead\n",
      "\n",
      "See the caveats in the documentation: https://pandas.pydata.org/pandas-docs/stable/user_guide/indexing.html#returning-a-view-versus-a-copy\n",
      "  self.obj[item] = s\n"
     ]
    },
    {
     "name": "stdout",
     "output_type": "stream",
     "text": [
      "                     2020-07-24            2020-07-25            2020-07-22  \\\n",
      "Product                      HS        MS          HS         MS         HS   \n",
      "SA                                                                            \n",
      "Fuels- Bargarh(R)      87204.30  43207.67   93192.590  41821.580  100914.49   \n",
      "Fuels-Bhawanipatna(R   96424.20  48369.35   77081.120  33702.860   94789.20   \n",
      "Fuels-JEYPORE(R)      134895.26  67461.87  100569.200  47596.350  149491.60   \n",
      "Fuels-Jharsuguda(R)    97742.51  30288.87   89493.180  26049.733  136289.78   \n",
      "Fuels-ROURKELA(R)     316276.66  36147.24  322542.880  35294.500  290886.78   \n",
      "Fuels-SAMBALPUR (R)   120257.52  23414.59  116704.310  20810.150  140052.31   \n",
      "Keonjhar I RSA         87804.07  15939.81  113298.817  14346.960  117875.81   \n",
      "Keonjhar II RSA        12213.20   6336.09   13601.470   4985.270   21413.61   \n",
      "\n",
      "                                2020-07-23            \n",
      "Product                     MS          HS        MS  \n",
      "SA                                                    \n",
      "Fuels- Bargarh(R)     51743.47   95697.220  49825.21  \n",
      "Fuels-Bhawanipatna(R  47666.13   98421.620  49654.70  \n",
      "Fuels-JEYPORE(R)      92245.21  133600.870  69979.97  \n",
      "Fuels-Jharsuguda(R)   42912.44  102392.530  30230.38  \n",
      "Fuels-ROURKELA(R)     38179.31  326995.220  34145.22  \n",
      "Fuels-SAMBALPUR (R)   46348.88  142557.790  43122.58  \n",
      "Keonjhar I RSA        20517.61  132657.479  19083.46  \n",
      "Keonjhar II RSA        7457.05   11385.760   6217.25  \n"
     ]
    }
   ],
   "source": [
    "pvt = pd.concat([create_pivot(first_file), create_pivot(second_file)], axis=1)\n",
    "print(pvt)"
   ]
  },
  {
   "cell_type": "code",
   "execution_count": 17,
   "metadata": {},
   "outputs": [],
   "source": [
    "with pd.ExcelWriter(first_file, engine='openpyxl') as writer:\n",
    "    writer.book = load_workbook(first_file)\n",
    "    pvt.to_excel(writer, 'pivot sheet', index=True)"
   ]
  },
  {
   "cell_type": "code",
   "execution_count": 18,
   "metadata": {},
   "outputs": [
    {
     "name": "stdout",
     "output_type": "stream",
     "text": [
      "['Unnamed: 0' '2020-07-24' 'Unnamed: 2' '2020-07-25' 'Unnamed: 4'\n",
      " '2020-07-22' 'Unnamed: 6' '2020-07-23' 'Unnamed: 8']\n"
     ]
    }
   ],
   "source": [
    "df = pd.read_excel(first_file, sheet_name='pivot sheet')\n",
    "print(df.columns.values)"
   ]
  },
  {
   "cell_type": "code",
   "execution_count": 19,
   "metadata": {},
   "outputs": [
    {
     "name": "stdout",
     "output_type": "stream",
     "text": [
      "['Unnamed: 0', '2020-07-25', 'Unnamed: 4', '2020-07-24', 'Unnamed: 2', '2020-07-23', 'Unnamed: 8', '2020-07-22', 'Unnamed: 6']\n"
     ]
    }
   ],
   "source": [
    "cols = df.columns.values\n",
    "order = [0, 3, 4, 1, 2, 7, 8, 5, 6]\n",
    "cols = [cols[i] for i in order]\n",
    "print(cols)"
   ]
  },
  {
   "cell_type": "code",
   "execution_count": 20,
   "metadata": {},
   "outputs": [
    {
     "name": "stdout",
     "output_type": "stream",
     "text": [
      "             Unnamed: 0 2020-07-25 Unnamed: 4 2020-07-24 Unnamed: 2  \\\n",
      "0               Product         HS         MS         HS         MS   \n",
      "1                    SA        NaN        NaN        NaN        NaN   \n",
      "2     Fuels- Bargarh(R)    93192.6    41821.6    87204.3    43207.7   \n",
      "3  Fuels-Bhawanipatna(R    77081.1    33702.9    96424.2    48369.3   \n",
      "4      Fuels-JEYPORE(R)     100569    47596.3     134895    67461.9   \n",
      "5   Fuels-Jharsuguda(R)    89493.2    26049.7    97742.5    30288.9   \n",
      "6     Fuels-ROURKELA(R)     322543    35294.5     316277    36147.2   \n",
      "7   Fuels-SAMBALPUR (R)     116704    20810.2     120258    23414.6   \n",
      "8        Keonjhar I RSA     113299      14347    87804.1    15939.8   \n",
      "9       Keonjhar II RSA    13601.5    4985.27    12213.2    6336.09   \n",
      "\n",
      "  2020-07-23 Unnamed: 8 2020-07-22 Unnamed: 6  \n",
      "0         HS         MS         HS         MS  \n",
      "1        NaN        NaN        NaN        NaN  \n",
      "2    95697.2    49825.2     100914    51743.5  \n",
      "3    98421.6    49654.7    94789.2    47666.1  \n",
      "4     133601      69980     149492    92245.2  \n",
      "5     102393    30230.4     136290    42912.4  \n",
      "6     326995    34145.2     290887    38179.3  \n",
      "7     142558    43122.6     140052    46348.9  \n",
      "8     132657    19083.5     117876    20517.6  \n",
      "9    11385.8    6217.25    21413.6    7457.05  \n"
     ]
    }
   ],
   "source": [
    "df = df[cols]\n",
    "print(df)"
   ]
  },
  {
   "cell_type": "code",
   "execution_count": 22,
   "metadata": {},
   "outputs": [],
   "source": [
    "with pd.ExcelWriter(first_file, engine='openpyxl') as writer:\n",
    "    writer.book = load_workbook(first_file)\n",
    "    df.to_excel(writer, 'summary', index=False)"
   ]
  },
  {
   "cell_type": "code",
   "execution_count": 25,
   "metadata": {},
   "outputs": [
    {
     "name": "stdout",
     "output_type": "stream",
     "text": [
      "Unnamed: 0\n"
     ]
    }
   ],
   "source": [
    "wb = load_workbook(first_file)\n",
    "ws = wb['summary']\n",
    "print(ws['A1'].value)"
   ]
  },
  {
   "cell_type": "code",
   "execution_count": 36,
   "metadata": {},
   "outputs": [
    {
     "data": {
      "text/plain": [
       "\"\\ndata = 'ABCDEFGHI'\\nfor char in data:\\n    val = char + '1'\\n    print(ws[val].value)\\n\\nprint(ws.cell(row=1, column=2).value)\\n\\n#Iterate through columns of the first row\\nfor row in ws.iter_rows(min_row=1, max_row=1):\\n    for cell in row:\\n        print(cell.value)\\n\""
      ]
     },
     "execution_count": 36,
     "metadata": {},
     "output_type": "execute_result"
    }
   ],
   "source": [
    "\"\"\"\n",
    "data = 'ABCDEFGHI'\n",
    "for char in data:\n",
    "    val = char + '1'\n",
    "    print(ws[val].value)\n",
    "\n",
    "print(ws.cell(row=1, column=2).value)\n",
    "\n",
    "#Iterate through columns of the first row\n",
    "for row in ws.iter_rows(min_row=1, max_row=1):\n",
    "    for cell in row:\n",
    "        print(cell.value)\n",
    "\"\"\""
   ]
  },
  {
   "cell_type": "code",
   "execution_count": null,
   "metadata": {},
   "outputs": [],
   "source": []
  }
 ],
 "metadata": {
  "kernelspec": {
   "display_name": "Python 3",
   "language": "python",
   "name": "python3"
  },
  "language_info": {
   "codemirror_mode": {
    "name": "ipython",
    "version": 3
   },
   "file_extension": ".py",
   "mimetype": "text/x-python",
   "name": "python",
   "nbconvert_exporter": "python",
   "pygments_lexer": "ipython3",
   "version": "3.8.3"
  }
 },
 "nbformat": 4,
 "nbformat_minor": 4
}
