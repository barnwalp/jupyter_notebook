{
 "cells": [
  {
   "cell_type": "code",
   "execution_count": 1,
   "metadata": {},
   "outputs": [],
   "source": [
    "import pandas as pd\n",
    "from openpyxl import load_workbook\n",
    "import openpyxl\n",
    "import numpy as np\n",
    "from datetime import date, timedelta"
   ]
  },
  {
   "cell_type": "code",
   "execution_count": 2,
   "metadata": {},
   "outputs": [
    {
     "name": "stdout",
     "output_type": "stream",
     "text": [
      "1\n"
     ]
    }
   ],
   "source": [
    "def cell_to_num(char):\n",
    "    char = char.upper()\n",
    "    if char.isalpha():\n",
    "        num = ord(char) - 64\n",
    "    else:\n",
    "        num = 0\n",
    "    return num\n",
    "print(cell_to_num('a'))"
   ]
  },
  {
   "cell_type": "code",
   "execution_count": 3,
   "metadata": {},
   "outputs": [
    {
     "name": "stderr",
     "output_type": "stream",
     "text": [
      "c:\\users\\panka\\appdata\\local\\programs\\python\\python38-32\\lib\\site-packages\\openpyxl\\styles\\stylesheet.py:214: UserWarning: Workbook contains no default style, apply openpyxl's default\n",
      "  warn(\"Workbook contains no default style, apply openpyxl's default\")\n"
     ]
    }
   ],
   "source": [
    "# Windows file system\n",
    "first_file = 'C:/Users/panka/Downloads/Nozzle Sales Report.xlsx'\n",
    "second_file = 'C:/Users/panka/Downloads/Nozzle Sales Report (1).xlsx'\n",
    "\"\"\"\n",
    "# linux file system\n",
    "first_file = '/mnt/c/Users/panka/Downloads/Nozzle Sales Report.xlsx'\n",
    "second_file = '/mnt/c/Users/panka/Downloads/Nozzle Sales Report (1).xlsx'\n",
    "\"\"\"\n",
    "wb_check = load_workbook(first_file)"
   ]
  },
  {
   "cell_type": "code",
   "execution_count": 4,
   "metadata": {},
   "outputs": [],
   "source": [
    "def data_cleaning(path):\n",
    "    wb = load_workbook(path)\n",
    "    ws = wb.active\n",
    "    \n",
    "    #Unmerge cell\n",
    "    ws.unmerge_cells('O1:P1')\n",
    "    ws.unmerge_cells('Q1:R1')\n",
    "    ws.unmerge_cells('S1:T1')\n",
    "    ws.unmerge_cells('U1:V1')\n",
    "    if path[-7] == '1':\n",
    "        #renaming issue_sale value with dates\n",
    "        ws['S1'] = str(date.today() - timedelta(days=4))\n",
    "        ws['T1'] = str(date.today() - timedelta(days=3))\n",
    "    else:\n",
    "        ws['S1'] = str(date.today() - timedelta(days=2))    \n",
    "        ws['T1'] = str(date.today() - timedelta(days=1))\n",
    "    \n",
    "    print(ws['S1'].value)\n",
    "    print(ws['T1'].value)    \n",
    "    \n",
    "    #Delete column U:V\n",
    "    ws.delete_cols(cell_to_num('U'), cell_to_num('V')-cell_to_num('U')+1)\n",
    "    #Delete column O:R\n",
    "    ws.delete_cols(cell_to_num('O'), cell_to_num('R')-cell_to_num('O')+1)\n",
    "    #Delete column K:M\n",
    "    ws.delete_cols(cell_to_num('K'), cell_to_num('M')-cell_to_num('K')+1)\n",
    "    #Delete column B:F\n",
    "    ws.delete_cols(cell_to_num('B'), cell_to_num('F')-cell_to_num('B')+1)\n",
    "    #Delete second row\n",
    "    ws.delete_rows(2)\n",
    "    wb.save(path)"
   ]
  },
  {
   "cell_type": "code",
   "execution_count": 5,
   "metadata": {},
   "outputs": [],
   "source": [
    "def create_pivot(path):\n",
    "    #reading excel file using pandas\n",
    "    old_df = pd.read_excel(path)\n",
    "    current_wb = load_workbook(path)\n",
    "    ws = current_wb.active\n",
    "    \n",
    "    #filter out the 'NA' value in the product column\n",
    "    df = old_df[\n",
    "        (old_df['Product'] == 'XP') |\n",
    "        (old_df['Product'] == 'HS') |\n",
    "        (old_df['Product'] == 'MS')\n",
    "    ]\n",
    "    \n",
    "    df.loc[df['Product'] == 'XP', 'Product'] = 'MS'\n",
    "    \n",
    "    pvt_all = pd.pivot_table(df,\n",
    "                            index=[\"SA\"],\n",
    "                            columns=['Product'],\n",
    "                            values=[ws['H1'].value, ws['G1'].value],\n",
    "                            aggfunc=np.sum)\n",
    "    return pvt_all"
   ]
  },
  {
   "cell_type": "code",
   "execution_count": 6,
   "metadata": {},
   "outputs": [
    {
     "name": "stdout",
     "output_type": "stream",
     "text": [
      "2020-08-18\n",
      "2020-08-19\n",
      "2020-08-16\n",
      "2020-08-17\n"
     ]
    }
   ],
   "source": [
    "data_cleaning(first_file)\n",
    "data_cleaning(second_file)"
   ]
  },
  {
   "cell_type": "code",
   "execution_count": 7,
   "metadata": {},
   "outputs": [
    {
     "name": "stderr",
     "output_type": "stream",
     "text": [
      "c:\\users\\panka\\appdata\\local\\programs\\python\\python38-32\\lib\\site-packages\\pandas\\core\\indexing.py:966: SettingWithCopyWarning: \n",
      "A value is trying to be set on a copy of a slice from a DataFrame.\n",
      "Try using .loc[row_indexer,col_indexer] = value instead\n",
      "\n",
      "See the caveats in the documentation: https://pandas.pydata.org/pandas-docs/stable/user_guide/indexing.html#returning-a-view-versus-a-copy\n",
      "  self.obj[item] = s\n"
     ]
    },
    {
     "name": "stdout",
     "output_type": "stream",
     "text": [
      "                     2020-08-18           2020-08-19           2020-08-16  \\\n",
      "Product                      HS        MS         HS        MS         HS   \n",
      "SA                                                                          \n",
      "Fuels- Bargarh(R)      38821.91  48629.88   48173.73  49982.35   32889.11   \n",
      "Fuels-Bhawanipatna(R   47192.44  53251.30   42687.11  44234.87   39575.28   \n",
      "Fuels-JEYPORE(R)      105962.00  68978.65   76242.47  50408.61   50165.91   \n",
      "Fuels-Jharsuguda(R)   126889.83  42844.78  154855.57  42621.40   72423.87   \n",
      "Fuels-ROURKELA(R)     275982.19  54264.92  274345.39  48917.65  260915.45   \n",
      "Fuels-SAMBALPUR (R)    72204.61  39106.79   88873.02  38263.36   65449.13   \n",
      "Keonjhar I RSA         81982.21  24699.31   73249.58  17943.48   81805.33   \n",
      "Keonjhar II RSA         8533.56   9627.54    8608.11   6954.99    3594.88   \n",
      "\n",
      "                               2020-08-17            \n",
      "Product                     MS         HS        MS  \n",
      "SA                                                   \n",
      "Fuels- Bargarh(R)     25587.90   43583.87  50826.26  \n",
      "Fuels-Bhawanipatna(R  31448.45   49073.05  54930.81  \n",
      "Fuels-JEYPORE(R)      38469.76   77747.53  72591.25  \n",
      "Fuels-Jharsuguda(R)   35329.92  110250.46  48242.24  \n",
      "Fuels-ROURKELA(R)     39056.62  286636.30  59103.49  \n",
      "Fuels-SAMBALPUR (R)   19537.97   73976.58  35928.13  \n",
      "Keonjhar I RSA        17257.64  104697.34  29944.66  \n",
      "Keonjhar II RSA        6057.07    8246.35   9651.46  \n"
     ]
    }
   ],
   "source": [
    "pvt = pd.concat([create_pivot(first_file), create_pivot(second_file)], axis=1)\n",
    "print(pvt)"
   ]
  },
  {
   "cell_type": "code",
   "execution_count": 8,
   "metadata": {},
   "outputs": [],
   "source": [
    "with pd.ExcelWriter(first_file, engine='openpyxl') as writer:\n",
    "    writer.book = load_workbook(first_file)\n",
    "    pvt.to_excel(writer, 'pivot sheet', index=True)"
   ]
  },
  {
   "cell_type": "code",
   "execution_count": 9,
   "metadata": {},
   "outputs": [
    {
     "name": "stdout",
     "output_type": "stream",
     "text": [
      "['Unnamed: 0' '2020-08-18' 'Unnamed: 2' '2020-08-19' 'Unnamed: 4'\n",
      " '2020-08-16' 'Unnamed: 6' '2020-08-17' 'Unnamed: 8']\n"
     ]
    }
   ],
   "source": [
    "df = pd.read_excel(first_file, sheet_name='pivot sheet')\n",
    "print(df.columns.values)"
   ]
  },
  {
   "cell_type": "code",
   "execution_count": 10,
   "metadata": {},
   "outputs": [
    {
     "name": "stdout",
     "output_type": "stream",
     "text": [
      "['Unnamed: 0', '2020-08-19', 'Unnamed: 4', '2020-08-18', 'Unnamed: 2', '2020-08-17', 'Unnamed: 8', '2020-08-16', 'Unnamed: 6']\n"
     ]
    }
   ],
   "source": [
    "cols = df.columns.values\n",
    "order = [0, 3, 4, 1, 2, 7, 8, 5, 6]\n",
    "cols = [cols[i] for i in order]\n",
    "print(cols)"
   ]
  },
  {
   "cell_type": "code",
   "execution_count": 11,
   "metadata": {},
   "outputs": [
    {
     "name": "stdout",
     "output_type": "stream",
     "text": [
      "             Unnamed: 0 2020-08-19 Unnamed: 4 2020-08-18 Unnamed: 2  \\\n",
      "0               Product         HS         MS         HS         MS   \n",
      "1                    SA        NaN        NaN        NaN        NaN   \n",
      "2     Fuels- Bargarh(R)    48173.7    49982.4    38821.9    48629.9   \n",
      "3  Fuels-Bhawanipatna(R    42687.1    44234.9    47192.4    53251.3   \n",
      "4      Fuels-JEYPORE(R)    76242.5    50408.6     105962    68978.6   \n",
      "5   Fuels-Jharsuguda(R)     154856    42621.4     126890    42844.8   \n",
      "6     Fuels-ROURKELA(R)     274345    48917.7     275982    54264.9   \n",
      "7   Fuels-SAMBALPUR (R)      88873    38263.4    72204.6    39106.8   \n",
      "8        Keonjhar I RSA    73249.6    17943.5    81982.2    24699.3   \n",
      "9       Keonjhar II RSA    8608.11    6954.99    8533.56    9627.54   \n",
      "\n",
      "  2020-08-17 Unnamed: 8 2020-08-16 Unnamed: 6  \n",
      "0         HS         MS         HS         MS  \n",
      "1        NaN        NaN        NaN        NaN  \n",
      "2    43583.9    50826.3    32889.1    25587.9  \n",
      "3    49073.1    54930.8    39575.3    31448.5  \n",
      "4    77747.5    72591.3    50165.9    38469.8  \n",
      "5     110250    48242.2    72423.9    35329.9  \n",
      "6     286636    59103.5     260915    39056.6  \n",
      "7    73976.6    35928.1    65449.1      19538  \n",
      "8     104697    29944.7    81805.3    17257.6  \n",
      "9    8246.35    9651.46    3594.88    6057.07  \n"
     ]
    }
   ],
   "source": [
    "df = df[cols]\n",
    "print(df)"
   ]
  },
  {
   "cell_type": "code",
   "execution_count": 12,
   "metadata": {},
   "outputs": [],
   "source": [
    "with pd.ExcelWriter(first_file, engine='openpyxl') as writer:\n",
    "    writer.book = load_workbook(first_file)\n",
    "    df.to_excel(writer, 'summary', index=False)"
   ]
  },
  {
   "cell_type": "code",
   "execution_count": 13,
   "metadata": {},
   "outputs": [
    {
     "name": "stdout",
     "output_type": "stream",
     "text": [
      "\n",
      "2020-08-19\n",
      "\n",
      "2020-08-18\n",
      "\n",
      "2020-08-17\n",
      "\n",
      "2020-08-16\n",
      "\n",
      "Fuels- Bargarh(R)\n"
     ]
    }
   ],
   "source": [
    "wb = load_workbook(first_file)\n",
    "ws = wb['summary']\n",
    "ws.delete_rows(3)\n",
    "check = 0\n",
    "for value in ws.iter_rows(min_row=1, max_row=1):\n",
    "    for cell in value:\n",
    "        if check % 2 == 0:\n",
    "            cell.value = \"\"\n",
    "        check += 1\n",
    "        print(cell.value)\n",
    "# print(df.columns.values)\n",
    "print(ws['A3'].value)"
   ]
  },
  {
   "cell_type": "code",
   "execution_count": 14,
   "metadata": {},
   "outputs": [
    {
     "data": {
      "text/plain": [
       "\"\\ndata = 'ABCDEFGHI'\\nfor char in data:\\n    val = char + '1'\\n    print(ws[val].value)\\n\\nprint(ws.cell(row=1, column=2).value)\\n\\n#Iterate through columns of the first row\\nfor row in ws.iter_rows(min_row=1, max_row=1):\\n    for cell in row:\\n        print(cell.value)\\n\""
      ]
     },
     "execution_count": 14,
     "metadata": {},
     "output_type": "execute_result"
    }
   ],
   "source": [
    "\"\"\"\n",
    "data = 'ABCDEFGHI'\n",
    "for char in data:\n",
    "    val = char + '1'\n",
    "    print(ws[val].value)\n",
    "\n",
    "print(ws.cell(row=1, column=2).value)\n",
    "\n",
    "#Iterate through columns of the first row\n",
    "for row in ws.iter_rows(min_row=1, max_row=1):\n",
    "    for cell in row:\n",
    "        print(cell.value)\n",
    "\"\"\""
   ]
  },
  {
   "cell_type": "code",
   "execution_count": 15,
   "metadata": {},
   "outputs": [],
   "source": [
    "from exchangelib import Account, Message, Credentials, HTMLBody\n",
    "from exchangelib import Configuration, DELEGATE\n",
    "import os"
   ]
  },
  {
   "cell_type": "code",
   "execution_count": 16,
   "metadata": {},
   "outputs": [
    {
     "name": "stdout",
     "output_type": "stream",
     "text": [
      "ioc\\00504802\n",
      "Toptal@22\n"
     ]
    }
   ],
   "source": [
    "outlook_user = os.environ.get('OUTLOOK_USER')\n",
    "outlook_password = os.environ.get('OUTLOOK_PASS')\n",
    "outlook_server = os.environ.get('OUTLOOK_SERVER')\n",
    "outlook_email = os.environ.get('OUTLOOK_EMAIL')\n",
    "\n",
    "print(os.getenv('OUTLOOK_USER'))\n",
    "print(os.getenv('OUTLOOK_PASS'))"
   ]
  },
  {
   "cell_type": "code",
   "execution_count": 17,
   "metadata": {},
   "outputs": [],
   "source": [
    "credentials = Credentials(username=outlook_user,\n",
    "                         password=outlook_password\n",
    "                         )\n",
    "config = Configuration(server=outlook_server,\n",
    "                      credentials=credentials)\n",
    "account = Account(primary_smtp_address=outlook_email,\n",
    "                 config=config,\n",
    "                 autodiscover=False,\n",
    "                 access_type=DELEGATE)"
   ]
  },
  {
   "cell_type": "code",
   "execution_count": 18,
   "metadata": {},
   "outputs": [],
   "source": [
    "def create_html(ws):\n",
    "    html = \"\"\"\n",
    "    <html><body><h3>Nozzle Sales Report:</h3>\n",
    "    <table border=1>\n",
    "    \"\"\"\n",
    "    # entering header data in html\n",
    "    for whole_row in ws.iter_rows(min_row=1, max_row=2):\n",
    "        html += \"<tr>\"\n",
    "        for row in whole_row:\n",
    "            html += f'<th>{row.value}</th>'\n",
    "        html += \"</tr>\"\n",
    "    # entering table data in html\n",
    "    for whole_row in ws.iter_rows(min_row=3):\n",
    "        html += \"<tr>\"\n",
    "        for row in whole_row:\n",
    "            if isinstance(row.value, float):\n",
    "                html += f'<td>{round(row.value, 2)}</td>'\n",
    "                print(round(row.value, 2))\n",
    "            else:\n",
    "                html += f'<td>{row.value}</td>'\n",
    "        html += \"</tr>\"\n",
    "    html += \"\"\"\n",
    "    </table>\n",
    "    <p>\n",
    "    <br>\n",
    "    With Regards<br>\n",
    "    Pankaj Barnwal<br>\n",
    "    </p>\n",
    "    </body>\n",
    "    </html>\n",
    "    \"\"\"\n",
    "    return html"
   ]
  },
  {
   "cell_type": "code",
   "execution_count": 19,
   "metadata": {},
   "outputs": [
    {
     "name": "stdout",
     "output_type": "stream",
     "text": [
      "48173.73\n",
      "49982.35\n",
      "38821.91\n",
      "48629.88\n",
      "43583.87\n",
      "50826.26\n",
      "32889.11\n",
      "25587.9\n",
      "42687.11\n",
      "44234.87\n",
      "47192.44\n",
      "53251.3\n",
      "49073.05\n",
      "54930.81\n",
      "39575.28\n",
      "31448.45\n",
      "76242.47\n",
      "50408.61\n",
      "68978.65\n",
      "77747.53\n",
      "72591.25\n",
      "50165.91\n",
      "38469.76\n",
      "154855.57\n",
      "42621.4\n",
      "126889.83\n",
      "42844.78\n",
      "110250.46\n",
      "48242.24\n",
      "72423.87\n",
      "35329.92\n",
      "274345.39\n",
      "48917.65\n",
      "275982.19\n",
      "54264.92\n",
      "286636.3\n",
      "59103.49\n",
      "260915.45\n",
      "39056.62\n",
      "88873.02\n",
      "38263.36\n",
      "72204.61\n",
      "39106.79\n",
      "73976.58\n",
      "35928.13\n",
      "65449.13\n",
      "19537.97\n",
      "73249.58\n",
      "17943.48\n",
      "81982.21\n",
      "24699.31\n",
      "104697.34\n",
      "29944.66\n",
      "81805.33\n",
      "17257.64\n",
      "8608.11\n",
      "6954.99\n",
      "8533.56\n",
      "9627.54\n",
      "8246.35\n",
      "9651.46\n",
      "3594.88\n",
      "6057.07\n"
     ]
    }
   ],
   "source": [
    "msg = Message(\n",
    "    account=account,\n",
    "    subject=\"Nozzle Sales Report - Sambalpur DO\",\n",
    "    body=HTMLBody(create_html(ws)),\n",
    "    to_recipients=['barnwalp@indianoil.in']\n",
    ")\n",
    "\n",
    "msg.send_and_save()"
   ]
  },
  {
   "cell_type": "code",
   "execution_count": null,
   "metadata": {},
   "outputs": [],
   "source": []
  },
  {
   "cell_type": "code",
   "execution_count": null,
   "metadata": {},
   "outputs": [],
   "source": []
  }
 ],
 "metadata": {
  "kernelspec": {
   "display_name": "Python 3",
   "language": "python",
   "name": "python3"
  },
  "language_info": {
   "codemirror_mode": {
    "name": "ipython",
    "version": 3
   },
   "file_extension": ".py",
   "mimetype": "text/x-python",
   "name": "python",
   "nbconvert_exporter": "python",
   "pygments_lexer": "ipython3",
   "version": "3.8.3"
  }
 },
 "nbformat": 4,
 "nbformat_minor": 4
}
