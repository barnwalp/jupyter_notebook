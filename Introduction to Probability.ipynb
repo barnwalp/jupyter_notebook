{
 "cells": [
  {
   "cell_type": "markdown",
   "metadata": {},
   "source": [
    "## Vandermonde's Identity\n",
    "\n",
    "Let there be $a$ peacock and $b$ toucans vying for $c$ top branches. the number of possibilities for which birds get to perch on top branches is:\n",
    "\n",
    "$$ \\sum_{k=0}^{c}{{a \\choose k}{b \\choose (c-k)}} = {a+b \\choose c} $$\n",
    "\n",
    "Lets assume that c i.e total branches are 6, then left side of the equation will be:\n",
    "$$ {a \\choose 0}{b \\choose 6-0} + {a \\choose 1}{b \\choose 6-1} + .......+ {}{a \\choose 6}{b \\choose 6-6}$$"
   ]
  },
  {
   "cell_type": "markdown",
   "metadata": {},
   "source": [
    "## Sample Space and Pebble World\n",
    "\n",
    "**Definition: Sample Sapce and Event**: The sample space S of an experiment is the set of all possible outcomes of an experiment. An event A is a subset of the sample space S, and we say that A occurred if the actual outcome is in A.\n",
    "\n",
    "- $ A \\cup B$ is the event that occurs if and only if at least one of A and B occurs\n",
    "- $ A \\cap B$ is the event that occurs if and only if both A and B occurs\n",
    "- $ A ^ c$ is the event that occurs if and only if both A and B occurs\n",
    "\n",
    "- it is not the case that at least one of A & B occur is the same as saying that both A & B does not occur\n",
    "- it is not the case that both occurs is the same as saying that at least one does not occur.\n",
    "\n",
    "\n",
    "### Example 1.2.3 \n",
    "A coin is flipped 10 times. Writing Heads as H and Tails as T, a possible outcome (pebble) is HHHTHHTTHT, and the sample space is the set of all possible strings of length 10 of H's and T's. We can (and will) encode H as 1 and T as 0, so that an outcome is a sequence $(s_1,…,s_10)$ with $s_j∈{0,1}$, and the sample space is the set of all such sequences. Now let's look at some events:\n",
    "\n",
    "1. Let A1 be the event that the first flip is Heads. As a set, $$A_1={(s_1,s_2,…,s_10):s_j∈{0,1} for 2 ≤ j ≤ 10} $$\n",
    "\n",
    "This is a subset of the sample space, so it is indeed an event; saying that A1 occurs is the same thing as saying that the first flip is Heads. Similarly, let Aj be the event that the jth flip is Heads for j=2,3,…,10.\n",
    "\n",
    "2. Let B be the event that at least one flip was Heads. As a set,\n",
    "$$ B= \\bigcup_{j=1}^{10}{A_j} $$ \n",
    "\n",
    "\n",
    "3. Let C be the event that all the flips were Heads. As a set,\n",
    "$$ C= \\bigcap_{j=1}^{10}{A_j} $$ \n",
    "\n",
    "\n",
    "4. Let D be the event that there were at least two consecutive Heads. As a set,\n",
    "$$ D= \\bigcup_{j=1}^{9}{A_j \\cap A+j+1} $$ \n"
   ]
  },
  {
   "cell_type": "markdown",
   "metadata": {},
   "source": [
    "## Naive definition of probability\n",
    "\n",
    "Let A be an event for an experiment with a finite sample space S. the naive probability of A is\n",
    "\n",
    "$$ P_{naive} (A) = \\frac{|A|}{|S|} = \\frac{number of outcomes favorable to A}{total number of outcomes in S}$$\n",
    "\n",
    "The above definition is very restrictive in that it required S to be finite with equal mass for each pebble i.e equal outcome without justification."
   ]
  },
  {
   "cell_type": "markdown",
   "metadata": {},
   "source": [
    "## How to count\n",
    "\n",
    "### Multiplication Rule - \n",
    "Consider a compound experiment consisting of two sub-experiments, Experiment A and Experiment B. Suppose that Experiment A has a possible outcomes, and for each of those outcomes Experiment B has b possible outcomes. Then the compound experiment has ab possible outcomes.\n",
    "\n",
    "#### Example (Ice cream cone)\n",
    "Suppose you are buying an ice cream cone. You can choose whether to have a cake cone or a waffle cone, and whether to have chocolate, vanilla, or strawberry as your flavor. \n",
    "\n",
    "--------------\n",
    "Regardless of whether the tyope of cone or the flavor is chosen first, there are 2x3 = 6 possibilities.\n",
    "\n",
    "### Sampling with replacement\n",
    "Consider n objects and making k choices from them, one at a time with replacement (i.e., choosing a certain object does not preclude it from being chosen again). Then there are $n^k$ possible outcomes.\n",
    "\n",
    "### Sampling without replacement\n",
    "Consider n objects and making k choices from them, one at a time without replacement (i.e., choosing a certain object precludes it from being chosen again). Then there are n(n−1)⋯(n−k+1) i.e. $^n P_r $ possible outcomes, for k≤n (and 0 possibilities for k>n).\n",
    "\n",
    "#### Example (Birthday Problem)\n",
    "There are k people in a room. Assume each person's birthday is equally likely to be any of the 365 days of the year (we exclude February 29), and that people's birthdays are independent (we assume there are no twins in the room). What is the probability that two or more people in the group have the same birthday?\n",
    "\n",
    "-------\n",
    "There are $365^k$ ways to assign birthdays to the people in the room, since any of the 'k' people can have a birthday on any of the day of the year. \n",
    "\n",
    "since all the possibilities are equally likely, so the naive definition of probability applies.\n",
    "\n",
    "first, we will find the probability of \"no birthday match\"\n",
    "$$ P_{no birthday match} = \\frac{365 \\cdot 364 ..... (365-k+1)}{365^k} $$\n",
    "\n",
    "and the probability of at least one birthday match is\n",
    "$$ P_{at least 1 birthday match} = 1 - \\frac{365 \\cdot 364 ..... (365-k+1)}{365^k} $$\n",
    "\n",
    "### Adjusting for overcounting\n",
    "\n",
    "#### Example (committees and teams)\n",
    "\n",
    "Consider a group of four people.\n",
    "(a) How many ways are there to choose a two-person committee?\n",
    "(b) How many ways are there to break the people into two teams of two?\n",
    "\n",
    "------\n",
    "a) There are total 12 ways (4 x 3) to choose 2 person out of 4, but in this case picking 1 & 2 and 2 & 1 are the same thing. since we overcounted by a factor of 2, total no of possibilities is 6\n",
    "\n",
    "b) In this case possibilities are $ \\boxed{1,2} \\boxed{3,4}, \\boxed{1,3} \\boxed{2,4}, and \\boxed{1,4} \\boxed{2,3} $. another way is to use (a) to see that there are 6 ways to choose one team. this overcounts by a factor of 2, since picking 1 & 2 to be a team is equivalent to picking 3 & 4 to be a team. So again the answer is 6/2=3.\n",
    "\n",
    "### Binomial Coefficient\n",
    "For any nonnegative integers k and n, the binomial coefficient ${n \\choose k}$, read as ''n choose k'', is the number of subsets of size k for a set of size n\n",
    "For example, ${4 \\choose 2} = 6$, The binomial coefficient {n \\choose k} is sometimes called a combination, but we do not use that terminology here\n",
    "\n",
    "### Binomial Coefficient Formula\n",
    "For $k \\leq n$, we have $${n \\choose k} = \\frac{n(n-1)\\cdots (n-k+1)}{k!}=\\frac{n!}{(n-k)!k!}. For k > n$$, we have ${n \\choose k} = 0$.\n",
    "\n",
    "Proof\n",
    "\n",
    "Let A be a set with |A|=n. Any subset of A has size at most n, so ${n \\choose k} = 0 for k>n$. Now let $k \\leq n$. By Theorem 1.4.6, there are $n(n-1) \\cdots (n-k+1)$ ways to make an ordered choice of k elements without replacement. This overcounts each subset of interest by a factor of k! (since we don't care how these elements are ordered), so we can get the correct count by dividing by k!\n",
    "\n",
    "#### Example (ClubOfficer)\n",
    "In a club with n people, there are n(n-1)(n-2) ways to choose a president, vice president, and treasurer, and there are {n \\choose 3} = \\frac{n(n-1)(n-2)}{3!} ways to choose 3 officers without predetermined titles\n",
    "\n",
    "#### Example (Permutation of a word)\n",
    "How many ways are there to permute the letters in the word STATISTICS? \n",
    "\n",
    "Here are two approaches. We could choose where to put the S's, then where to put the T's (from the remaining positions), then where to put the I's, then where to put the A (and then the C is determined). Alternatively, we can start with 10! and then adjust for overcounting, dividing by 3!3!2! to account for the fact that the S's can be permuted among themselves in any way, and likewise for the T's and I's. This gives\n",
    "\n",
    "$$ {10 \\choose 3} {7 \\choose 3} {4 \\choose 2} {2 \\choose 1} = \\frac{8!}{3!3!2!} = 50400 possibilities $$\n",
    "\n",
    "#### Example (Full house in pocker) - unsolved\n",
    "A 5-card hand is dealt from a standard, well-shuffled 52-card deck. The hand is called a full house in poker if it consists of three cards of some rank and two cards of another rank, e.g., three 7's and two 10's (in any order). What is the probability of a full house?\n",
    "\n",
    "Solution\n",
    "All of the ${52 \\choose 5}$ possible hands are equally likely by symmetry, so the naive definition is applicable. To find the number of full house hands, use the multiplication rule (and imagine the tree). There are 13 choices for what rank we have three of; for concreteness, assume we have three 7's and focus on that branch of the tree. There are ${4 \\choose 3}$ ways to choose which 7's we have. Then there are 12 choices for what rank we have two of, say 10's for concreteness, and {4 \\choose 2} ways to choose two 10's. Thus,\n",
    "\n",
    "$$ P(\\textrm{full house}) = \\frac{13 {4 \\choose 3} 12 {4 \\choose 2}}{{52 \\choose 5}} = \\frac{3744}{2598960} \\approx 0.00144 $$. The decimal approximation is more useful when playing poker, but the answer in terms of binomial coefficients is exact and self-annotating (seeing ''${52 \\choose 5}$\" is a much bigger hint of its origin than seeing ''2598960\")"
   ]
  },
  {
   "cell_type": "markdown",
   "metadata": {},
   "source": [
    "## Story Proof\n",
    "A story proof is a proof by interpretation. For counting problems, this often means counting the same thing in two different ways, rather than doing tedious algebra. A story proof often avoids messy calculations and goes further than an algebraic proof toward explaining why the result is true.\n",
    "\n",
    "### Example (The team captain)\n",
    "For any positive integers n and k with k≤n,\n",
    "$$ {n}{n-1 \\choose k-1} = {k}{n \\choose k} $$ \n",
    "\n",
    "This is again easy to check algebraically, using the fact that m!=m(m−1)! for any positive integer m, but a story proof is more insightful.\n",
    "\n",
    "Story proof\n",
    "Consider a group of n people, from which a team of k will be chosen, one of whom will be the team captain. To specify a possibility, we could first choose the team captain and then choose the remaining k−1 team members; this gives the left-hand side. Equivalently, we could first choose the k team members and then choose one of them to be captain; this gives the right-hand side."
   ]
  },
  {
   "cell_type": "markdown",
   "metadata": {},
   "source": [
    "## General definition of probability\n"
   ]
  },
  {
   "cell_type": "markdown",
   "metadata": {},
   "source": []
  },
  {
   "cell_type": "markdown",
   "metadata": {},
   "source": []
  },
  {
   "cell_type": "markdown",
   "metadata": {},
   "source": []
  }
 ],
 "metadata": {
  "kernelspec": {
   "display_name": "Python 3",
   "language": "python",
   "name": "python3"
  },
  "language_info": {
   "codemirror_mode": {
    "name": "ipython",
    "version": 3
   },
   "file_extension": ".py",
   "mimetype": "text/x-python",
   "name": "python",
   "nbconvert_exporter": "python",
   "pygments_lexer": "ipython3",
   "version": "3.8.3"
  }
 },
 "nbformat": 4,
 "nbformat_minor": 4
}
