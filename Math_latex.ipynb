{
 "cells": [
  {
   "cell_type": "markdown",
   "metadata": {},
   "source": [
    "### Mathematical equations in Latex"
   ]
  },
  {
   "cell_type": "markdown",
   "metadata": {},
   "source": [
    "\\begin{equation}\n",
    "% % sign is used to write comments in latex\n",
    "% \\\\ sign is used to enter new line\n",
    "x = y+z\\\\\n",
    "f(x) = x^2\\\\\n",
    "f(x) = x_1 + x_2 + x_3 + .......... + x_n\\\\\n",
    "f(x) = \\sum_{i=1}^{n}{x_i}\\\\\n",
    "f(x) = \\int_{i=1}^{n}{x_i}\n",
    "\\\\\n",
    "X=\n",
    "\\begin{cases}\n",
    "5, \\text{if x is divisible by 5}\n",
    "\\\\\n",
    "10, \\text{if x is divisible by 10}\n",
    "\\\\\n",
    "-1, \\text{otherwise}\n",
    "\\end{cases}\n",
    "\\\\\n",
    "x=\n",
    "\\frac{\\substack{\\sum_{i=1}^{n}{x_i}}}\n",
    "{\\substack{\\sum_{i=20}^{50} {x_j}}}\n",
    "\\end{equation}\n",
    "\n"
   ]
  },
  {
   "cell_type": "markdown",
   "metadata": {},
   "source": [
    "Let's begin with a formula $e^{i\\pi}+1=0$ But we can also do\n",
    "\n",
    "$$ e = \\lim_{n\\to\\infty} \\left(1+\\frac{1}{n}\\right)^n = \n",
    "    \\lim_{n\\to\\infty}\\frac{n}{\\sqrt[n]{n!}}$$\n"
   ]
  },
  {
   "cell_type": "code",
   "execution_count": null,
   "metadata": {},
   "outputs": [],
   "source": []
  },
  {
   "cell_type": "code",
   "execution_count": null,
   "metadata": {},
   "outputs": [],
   "source": []
  }
 ],
 "metadata": {
  "kernelspec": {
   "display_name": "Python 3",
   "language": "python",
   "name": "python3"
  },
  "language_info": {
   "codemirror_mode": {
    "name": "ipython",
    "version": 3
   },
   "file_extension": ".py",
   "mimetype": "text/x-python",
   "name": "python",
   "nbconvert_exporter": "python",
   "pygments_lexer": "ipython3",
   "version": "3.8.3"
  }
 },
 "nbformat": 4,
 "nbformat_minor": 4
}
