{
 "cells": [
  {
   "cell_type": "code",
   "execution_count": 28,
   "metadata": {},
   "outputs": [],
   "source": [
    "import pandas as pd"
   ]
  },
  {
   "cell_type": "code",
   "execution_count": 2,
   "metadata": {},
   "outputs": [],
   "source": [
    "import openpyxl\n",
    "from openpyxl import load_workbook\n",
    "import os"
   ]
  },
  {
   "cell_type": "code",
   "execution_count": 18,
   "metadata": {},
   "outputs": [],
   "source": [
    "os.chdir('C:/Users/panka/Downloads')"
   ]
  },
  {
   "cell_type": "code",
   "execution_count": 19,
   "metadata": {},
   "outputs": [
    {
     "data": {
      "text/plain": [
       "'C:\\\\Users\\\\panka\\\\Downloads'"
      ]
     },
     "execution_count": 19,
     "metadata": {},
     "output_type": "execute_result"
    }
   ],
   "source": [
    "os.getcwd()"
   ]
  },
  {
   "cell_type": "code",
   "execution_count": 20,
   "metadata": {},
   "outputs": [],
   "source": [
    "path = 'C:/Users/panka/Downloads/Nozzle Sales Report (1).xlsx'"
   ]
  },
  {
   "cell_type": "code",
   "execution_count": 30,
   "metadata": {
    "scrolled": true
   },
   "outputs": [
    {
     "name": "stdout",
     "output_type": "stream",
     "text": [
      "             Unnamed: 0 2020-07-20 Unnamed: 2 2020-07-21 Unnamed: 4\n",
      "0               Product         HS         MS         HS         MS\n",
      "1                    SA        NaN        NaN        NaN        NaN\n",
      "2     Fuels- Bargarh(R)     100914    51743.5    95697.2    49825.2\n",
      "3  Fuels-Bhawanipatna(R    94789.2    47666.1    98421.6    49654.7\n",
      "4      Fuels-JEYPORE(R)     149492    92245.2     133601      69980\n",
      "5   Fuels-Jharsuguda(R)     136290    42912.4     102393    30230.4\n",
      "6     Fuels-ROURKELA(R)     290887    38179.3     326995    34145.2\n",
      "7   Fuels-SAMBALPUR (R)     140052    46348.9     142558    43122.6\n",
      "8        Keonjhar I RSA     117876    20517.6     132657    19083.5\n",
      "9       Keonjhar II RSA    21413.6    7457.05    11385.8    6217.25\n"
     ]
    }
   ],
   "source": [
    "wb = load_workbook(path)\n",
    "ws = wb['sheet1']\n",
    "df = pd.read_excel(path, sheet_name='sheet1')\n",
    "print(df)"
   ]
  },
  {
   "cell_type": "code",
   "execution_count": null,
   "metadata": {},
   "outputs": [],
   "source": []
  },
  {
   "cell_type": "code",
   "execution_count": null,
   "metadata": {},
   "outputs": [],
   "source": []
  },
  {
   "cell_type": "code",
   "execution_count": null,
   "metadata": {},
   "outputs": [],
   "source": []
  },
  {
   "cell_type": "code",
   "execution_count": null,
   "metadata": {},
   "outputs": [],
   "source": []
  },
  {
   "cell_type": "code",
   "execution_count": null,
   "metadata": {},
   "outputs": [],
   "source": []
  }
 ],
 "metadata": {
  "kernelspec": {
   "display_name": "Python 3",
   "language": "python",
   "name": "python3"
  },
  "language_info": {
   "codemirror_mode": {
    "name": "ipython",
    "version": 3
   },
   "file_extension": ".py",
   "mimetype": "text/x-python",
   "name": "python",
   "nbconvert_exporter": "python",
   "pygments_lexer": "ipython3",
   "version": "3.8.3"
  }
 },
 "nbformat": 4,
 "nbformat_minor": 4
}
